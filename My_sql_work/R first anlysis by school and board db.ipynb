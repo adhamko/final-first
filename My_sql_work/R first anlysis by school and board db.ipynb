{
 "cells": [
  {
   "cell_type": "markdown",
   "metadata": {},
   "source": [
    "<p style=\"text-align:center\">\n",
    "    <a href=\"https://skills.network\" target=\"_blank\">\n",
    "    <img src=\"https://cf-courses-data.s3.us.cloud-object-storage.appdomain.cloud/assets/logos/SN_web_lightmode.png\" width=\"200\" alt=\"Skills Network Logo\">\n",
    "    </a>\n",
    "</p>\n",
    "\n",
    "<h1 align=center><font size = 5>Hands-on Lab: Creating and Querying Database Objects from R</h1>\n"
   ]
  },
  {
   "cell_type": "markdown",
   "metadata": {},
   "source": [
    "<br>\n"
   ]
  },
  {
   "cell_type": "markdown",
   "metadata": {},
   "source": [
    "### Welcome!\n"
   ]
  },
  {
   "cell_type": "markdown",
   "metadata": {},
   "source": [
    "In this hands-on lab, we will create and query database objects from an R notebook in Jupyter, and use ggplot2 to plot the data using R libraries.\n"
   ]
  },
  {
   "cell_type": "markdown",
   "metadata": {},
   "source": [
    "<div class=\"alert alert-block alert-info\" style=\"margin-top: 20px\">\n",
    "<h3>Tasks</h3>\n",
    "<ol><ol><ol>\n",
    "<li><a href=\"#ref4a\">Pre-requisites & Dataset</a></li>\n",
    "<li><a href=\"#ref4b\">Load RSQLite</a></li>\n",
    "<li><a href=\"#ref4c\">Create a database connection</a></li>\n",
    "<li><a href=\"#ref4f\">Create the tables</a></li>\n",
    "<li><a href=\"#ref4g\">Load data into the database</a></li>\n",
    "<li><a href=\"#ref4h\">Fetch data from the database</a></li>\n",
    "<li><a href=\"#ref4i\">Plot the data (using ggplot2)</a></li>\n",
    "</ol></ol></ol>\n",
    "<br>\n",
    "Estimated Time Needed: <strong>30 min</strong>\n",
    "</div>\n"
   ]
  },
  {
   "cell_type": "markdown",
   "metadata": {},
   "source": [
    "<a id=\"ref4a\"></a>\n",
    "\n",
    "### A. Pre-requisites & Dataset\n",
    "\n",
    "**Pre-requisite**: In this lab we will use Jupyter Notebooks within SN Labs to access data using RSQLite.  Information about Jupyter notebooks, SN Labs.\n",
    "\n",
    "**Dataset used in this lab**: For this lab we will utilize the Ontario public schools enrollment dataset. This data set is available under the Open Government License – Ontario and sourced from: [https://www.ontario.ca/data/ontario-public-schools-enrolment](https://www.ontario.ca/data/ontario-public-schools-enrolment?cm_mmc=Email_Newsletter-_-Developer_Ed%2BTech-_-WW_WW-_-SkillsNetwork-Courses-IBMDeveloperSkillsNetwork-RP0103EN-SkillsNetwork-23619267&cm_mmca1=000026UJ&cm_mmca2=10006555&cm_mmca3=M12345678&cvosrc=email.Newsletter.M12345678&cvo_campaign=000026UJ&cm_mmc=Email_Newsletter-_-Developer_Ed%2BTech-_-WW_WW-_-SkillsNetwork-Courses-IBMDeveloperSkillsNetwork-RP0103EN-SkillsNetwork-23619267&cm_mmca1=000026UJ&cm_mmca2=10006555&cm_mmca3=M12345678&cvosrc=email.Newsletter.M12345678&cvo_campaign=000026UJ&cm_mmc=Email_Newsletter-_-Developer_Ed%2BTech-_-WW_WW-_-SkillsNetwork-Courses-IBMDeveloperSkillsNetwork-RP0103EN-SkillsNetwork-23619267&cm_mmca1=000026UJ&cm_mmca2=10006555&cm_mmca3=M12345678&cvosrc=email.Newsletter.M12345678&cvo_campaign=000026UJ&cm_mmc=Email_Newsletter-_-Developer_Ed%2BTech-_-WW_WW-_-SkillsNetwork-Courses-IBMDeveloperSkillsNetwork-RP0103EN-SkillsNetwork-23619267&cm_mmca1=000026UJ&cm_mmca2=10006555&cm_mmca3=M12345678&cvosrc=email.Newsletter.M12345678&cvo_campaign=000026UJ&cm_mmc=Email_Newsletter-_-Developer_Ed%2BTech-_-WW_WW-_-SkillsNetwork-Courses-IBMDeveloperSkillsNetwork-RP0103EN-SkillsNetwork-23619267&cm_mmca1=000026UJ&cm_mmca2=10006555&cm_mmca3=M12345678&cvosrc=email.Newsletter.M12345678&cvo_campaign=000026UJ&cm_mmc=Email_Newsletter-_-Developer_Ed%2BTech-_-WW_WW-_-SkillsNetwork-Courses-IBMDeveloperSkillsNetwork-RP0103EN-SkillsNetwork-23619267&cm_mmca1=000026UJ&cm_mmca2=10006555&cm_mmca3=M12345678&cvosrc=email.Newsletter.M12345678&cvo_campaign=000026UJ&cm_mmc=Email_Newsletter-_-Developer_Ed%2BTech-_-WW_WW-_-SkillsNetwork-Courses-IBMDeveloperSkillsNetwork-RP0103EN-SkillsNetwork-23619267&cm_mmca1=000026UJ&cm_mmca2=10006555&cm_mmca3=M12345678&cvosrc=email.Newsletter.M12345678&cvo_campaign=000026UJ&cm_mmc=Email_Newsletter-_-Developer_Ed%2BTech-_-WW_WW-_-SkillsNetwork-Courses-IBMDeveloperSkillsNetwork-RP0103EN-SkillsNetwork-23619267&cm_mmca1=000026UJ&cm_mmca2=10006555&cm_mmca3=M12345678&cvosrc=email.Newsletter.M12345678&cvo_campaign=000026UJ&cm_mmc=Email_Newsletter-_-Developer_Ed%2BTech-_-WW_WW-_-SkillsNetwork-Courses-IBMDeveloperSkillsNetwork-RP0103EN-SkillsNetwork-23619267&cm_mmca1=000026UJ&cm_mmca2=10006555&cm_mmca3=M12345678&cvosrc=email.Newsletter.M12345678&cvo_campaign=000026UJ&cm_mmc=Email_Newsletter-_-Developer_Ed%2BTech-_-WW_WW-_-SkillsNetwork-Courses-IBMDeveloperSkillsNetwork-RP0103EN-SkillsNetwork-23619267&cm_mmca1=000026UJ&cm_mmca2=10006555&cm_mmca3=M12345678&cvosrc=email.Newsletter.M12345678&cvo_campaign=000026UJ)\n",
    "\n",
    "For simplicity we have already split it into two separate files: [board.csv](https://cf-courses-data.s3.us.cloud-object-storage.appdomain.cloud/IBMDeveloperSkillsNetwork-RP0103EN-SkillsNetwork/labs/Lab%20-%20Creating%20and%20Querying%20Database%20Objects%20from%20R/board.csv) and [school.csv](https://cf-courses-data.s3.us.cloud-object-storage.appdomain.cloud/IBMDeveloperSkillsNetwork-RP0103EN-SkillsNetwork/labs/Lab%20-%20Creating%20and%20Querying%20Database%20Objects%20from%20R/school.csv).\n",
    "\n"
   ]
  },
  {
   "cell_type": "markdown",
   "metadata": {},
   "source": [
    "<a id=\"ref4b\"></a>\n",
    "\n",
    "### B. Load RSQLite\n",
    "\n",
    " Let’s load the RSQLite package by clicking on the following cell and executing it (Shift+Enter):\n"
   ]
  },
  {
   "cell_type": "code",
   "execution_count": 3,
   "metadata": {
    "tags": []
   },
   "outputs": [
    {
     "name": "stderr",
     "output_type": "stream",
     "text": [
      "also installing the dependency ‘blob’\n",
      "\n",
      "Updating HTML index of packages in '.Library'\n",
      "Making 'packages.html' ... done\n"
     ]
    }
   ],
   "source": [
    "install.packages(c('RSQLite'), repos = 'https://cran.rstudio.com',dependecies=TRUE)"
   ]
  },
  {
   "cell_type": "markdown",
   "metadata": {},
   "source": [
    "#### Restart Kernel\n",
    "\n",
    "Aftre instalaltion of the the package, it is necessary to restart R Kernel. Click **Kernel** > **Restart Kernel** from the main menu. This will register the recenlty installed packages. Now proceed to load the RSQLite package. \n"
   ]
  },
  {
   "cell_type": "code",
   "execution_count": 4,
   "metadata": {
    "tags": []
   },
   "outputs": [],
   "source": [
    "library(\"RSQLite\")"
   ]
  },
  {
   "cell_type": "markdown",
   "metadata": {},
   "source": [
    "<a id=\"ref4c\"></a>\n",
    "\n",
    "### C. Create a database connection\n"
   ]
  },
  {
   "cell_type": "code",
   "execution_count": 5,
   "metadata": {
    "tags": []
   },
   "outputs": [],
   "source": [
    "conn <- dbConnect(RSQLite::SQLite(),\"Querying_DatabaseDB.sqlite\")"
   ]
  },
  {
   "cell_type": "markdown",
   "metadata": {},
   "source": [
    "<h4>Let’s create the BOARD table in the database.</h4>\n"
   ]
  },
  {
   "cell_type": "code",
   "execution_count": 7,
   "metadata": {
    "tags": []
   },
   "outputs": [
    {
     "ename": "ERROR",
     "evalue": "Error: table BOARD already exists\n",
     "execution_count": 7,
     "output_type": "error",
     "traceback": [
      "Error: table BOARD already exists\nTraceback:\n",
      "1. dbExecute(conn, \"CREATE TABLE BOARD (\\n                            B_ID CHAR(6) NOT NULL, \\n                            B_NAME VARCHAR(75) NOT NULL, \\n                            TYPE VARCHAR(50) NOT NULL, \\n                            LANGUAGE VARCHAR(50), \\n                            PRIMARY KEY (B_ID))\", \n .     errors = FALSE)",
      "2. dbExecute(conn, \"CREATE TABLE BOARD (\\n                            B_ID CHAR(6) NOT NULL, \\n                            B_NAME VARCHAR(75) NOT NULL, \\n                            TYPE VARCHAR(50) NOT NULL, \\n                            LANGUAGE VARCHAR(50), \\n                            PRIMARY KEY (B_ID))\", \n .     errors = FALSE)",
      "3. dbSendStatement(conn, statement, ...)",
      "4. dbSendStatement(conn, statement, ...)",
      "5. dbSendQuery(conn, statement, ...)",
      "6. dbSendQuery(conn, statement, ...)",
      "7. .local(conn, statement, ...)",
      "8. new(\"SQLiteResult\", sql = statement, ptr = result_create(conn@ptr, \n .     statement), conn = conn, bigint = conn@bigint)",
      "9. initialize(value, ...)",
      "10. initialize(value, ...)",
      "11. result_create(conn@ptr, statement)"
     ]
    }
   ],
   "source": [
    "df1 <- dbExecute(conn, \"CREATE TABLE BOARD (\n",
    "                            B_ID CHAR(6) NOT NULL, \n",
    "                            B_NAME VARCHAR(75) NOT NULL, \n",
    "                            TYPE VARCHAR(50) NOT NULL, \n",
    "                            LANGUAGE VARCHAR(50), \n",
    "                            PRIMARY KEY (B_ID))\", \n",
    "                errors=FALSE)\n",
    "df1"
   ]
  },
  {
   "cell_type": "markdown",
   "metadata": {},
   "source": [
    "<h4>Now let’s create the SCHOOL table with column details as:</br></br> B_ID CHAR, S_ID CHAR, S_NAME VARCHAR, LEVEL VARCHAR, ENROLLMENT INTEGER and B_ID, S_ID will be the primary key.</h4>\n"
   ]
  },
  {
   "cell_type": "code",
   "execution_count": 9,
   "metadata": {
    "tags": []
   },
   "outputs": [
    {
     "ename": "ERROR",
     "evalue": "Error: table SCHOOL already exists\n",
     "execution_count": 9,
     "output_type": "error",
     "traceback": [
      "Error: table SCHOOL already exists\nTraceback:\n",
      "1. dbExecute(conn, \"CREATE TABLE SCHOOL(\\n                        B_ID CHAR(6) NOT NULL,\\n                        S_ID CHAR(6) NOT NULL,\\n                        S_NAME VARCHAR(75)NOT NULL,\\n                        LEVEL VARCHAR(50) NOT NULL,\\n                        ENROLLMENT INT WITH DEFAULT 10,\\n                        PRIMARY KEY(B_ID,S_ID))\", \n .     errors = FALSE)",
      "2. dbExecute(conn, \"CREATE TABLE SCHOOL(\\n                        B_ID CHAR(6) NOT NULL,\\n                        S_ID CHAR(6) NOT NULL,\\n                        S_NAME VARCHAR(75)NOT NULL,\\n                        LEVEL VARCHAR(50) NOT NULL,\\n                        ENROLLMENT INT WITH DEFAULT 10,\\n                        PRIMARY KEY(B_ID,S_ID))\", \n .     errors = FALSE)",
      "3. dbSendStatement(conn, statement, ...)",
      "4. dbSendStatement(conn, statement, ...)",
      "5. dbSendQuery(conn, statement, ...)",
      "6. dbSendQuery(conn, statement, ...)",
      "7. .local(conn, statement, ...)",
      "8. new(\"SQLiteResult\", sql = statement, ptr = result_create(conn@ptr, \n .     statement), conn = conn, bigint = conn@bigint)",
      "9. initialize(value, ...)",
      "10. initialize(value, ...)",
      "11. result_create(conn@ptr, statement)"
     ]
    }
   ],
   "source": [
    "df2<-dbExecute(conn,\"CREATE TABLE SCHOOL(\n",
    "                        B_ID CHAR(6) NOT NULL,\n",
    "                        S_ID CHAR(6) NOT NULL,\n",
    "                        S_NAME VARCHAR(75)NOT NULL,\n",
    "                        LEVEL VARCHAR(50) NOT NULL,\n",
    "                        ENROLLMENT INT WITH DEFAULT 10,\n",
    "                        PRIMARY KEY(B_ID,S_ID))\",\n",
    "                      errors=FALSE)\n",
    "df2"
   ]
  },
  {
   "cell_type": "markdown",
   "metadata": {},
   "source": [
    "<details>\n",
    "<summary>Click here to view/hide solution</summary>\n",
    "<p>\n",
    "\n",
    "```\n",
    "df2 <- dbExecute(conn, \"CREATE TABLE SCHOOL (\n",
    "                  B_ID CHAR(6) NOT NULL, \n",
    "                  S_ID CHAR(6) NOT NULL, \n",
    "                  S_NAME VARCHAR(100), \n",
    "                  LEVEL VARCHAR(70), \n",
    "                  ENROLLMENT INTEGER WITH DEFAULT 10,\n",
    "                  PRIMARY KEY (B_ID, S_ID))\", errors=FALSE) \n",
    "```\n",
    "\n",
    "</details>\n"
   ]
  },
  {
   "cell_type": "markdown",
   "metadata": {},
   "source": [
    "<a id=\"ref4g\"></a>\n",
    "\n",
    "### D. Load the data into the database\n"
   ]
  },
  {
   "cell_type": "markdown",
   "metadata": {},
   "source": [
    "Fetch the tables present in the current database schema.\n"
   ]
  },
  {
   "cell_type": "code",
   "execution_count": 12,
   "metadata": {
    "tags": []
   },
   "outputs": [
    {
     "data": {
      "text/html": [
       "<table>\n",
       "<caption>A data.frame: 6 × 5</caption>\n",
       "<thead>\n",
       "\t<tr><th></th><th scope=col>B_ID</th><th scope=col>S_ID</th><th scope=col>S_NAME</th><th scope=col>LEVEL</th><th scope=col>ENROLLMENT</th></tr>\n",
       "\t<tr><th></th><th scope=col>&lt;fct&gt;</th><th scope=col>&lt;int&gt;</th><th scope=col>&lt;fct&gt;</th><th scope=col>&lt;fct&gt;</th><th scope=col>&lt;int&gt;</th></tr>\n",
       "</thead>\n",
       "<tbody>\n",
       "\t<tr><th scope=row>1</th><td>B28010</td><td>891240</td><td>Alexander Henry HS            </td><td>Secondary </td><td>145</td></tr>\n",
       "\t<tr><th scope=row>2</th><td>B28010</td><td>902344</td><td>Algoma Education Connection SS</td><td>Secondary </td><td>385</td></tr>\n",
       "\t<tr><th scope=row>3</th><td>B28010</td><td> 19186</td><td>Anna McCrea PS                </td><td>Elementary</td><td>177</td></tr>\n",
       "\t<tr><th scope=row>4</th><td>B28010</td><td> 67679</td><td>Arthur Henderson PS           </td><td>Elementary</td><td>104</td></tr>\n",
       "\t<tr><th scope=row>5</th><td>B28010</td><td> 28932</td><td>Aweres PS                     </td><td>Elementary</td><td> 95</td></tr>\n",
       "\t<tr><th scope=row>6</th><td>B28010</td><td> 43362</td><td>Ben R McMullin PS             </td><td>Elementary</td><td>241</td></tr>\n",
       "</tbody>\n",
       "</table>\n"
      ],
      "text/latex": [
       "A data.frame: 6 × 5\n",
       "\\begin{tabular}{r|lllll}\n",
       "  & B\\_ID & S\\_ID & S\\_NAME & LEVEL & ENROLLMENT\\\\\n",
       "  & <fct> & <int> & <fct> & <fct> & <int>\\\\\n",
       "\\hline\n",
       "\t1 & B28010 & 891240 & Alexander Henry HS             & Secondary  & 145\\\\\n",
       "\t2 & B28010 & 902344 & Algoma Education Connection SS & Secondary  & 385\\\\\n",
       "\t3 & B28010 &  19186 & Anna McCrea PS                 & Elementary & 177\\\\\n",
       "\t4 & B28010 &  67679 & Arthur Henderson PS            & Elementary & 104\\\\\n",
       "\t5 & B28010 &  28932 & Aweres PS                      & Elementary &  95\\\\\n",
       "\t6 & B28010 &  43362 & Ben R McMullin PS              & Elementary & 241\\\\\n",
       "\\end{tabular}\n"
      ],
      "text/markdown": [
       "\n",
       "A data.frame: 6 × 5\n",
       "\n",
       "| <!--/--> | B_ID &lt;fct&gt; | S_ID &lt;int&gt; | S_NAME &lt;fct&gt; | LEVEL &lt;fct&gt; | ENROLLMENT &lt;int&gt; |\n",
       "|---|---|---|---|---|---|\n",
       "| 1 | B28010 | 891240 | Alexander Henry HS             | Secondary  | 145 |\n",
       "| 2 | B28010 | 902344 | Algoma Education Connection SS | Secondary  | 385 |\n",
       "| 3 | B28010 |  19186 | Anna McCrea PS                 | Elementary | 177 |\n",
       "| 4 | B28010 |  67679 | Arthur Henderson PS            | Elementary | 104 |\n",
       "| 5 | B28010 |  28932 | Aweres PS                      | Elementary |  95 |\n",
       "| 6 | B28010 |  43362 | Ben R McMullin PS              | Elementary | 241 |\n",
       "\n"
      ],
      "text/plain": [
       "  B_ID   S_ID   S_NAME                         LEVEL      ENROLLMENT\n",
       "1 B28010 891240 Alexander Henry HS             Secondary  145       \n",
       "2 B28010 902344 Algoma Education Connection SS Secondary  385       \n",
       "3 B28010  19186 Anna McCrea PS                 Elementary 177       \n",
       "4 B28010  67679 Arthur Henderson PS            Elementary 104       \n",
       "5 B28010  28932 Aweres PS                      Elementary  95       \n",
       "6 B28010  43362 Ben R McMullin PS              Elementary 241       "
      ]
     },
     "metadata": {},
     "output_type": "display_data"
    },
    {
     "data": {
      "text/html": [
       "<table>\n",
       "<caption>A data.frame: 6 × 4</caption>\n",
       "<thead>\n",
       "\t<tr><th></th><th scope=col>B_ID</th><th scope=col>B_NAME</th><th scope=col>TYPE</th><th scope=col>LANGUAGE</th></tr>\n",
       "\t<tr><th></th><th scope=col>&lt;fct&gt;</th><th scope=col>&lt;fct&gt;</th><th scope=col>&lt;fct&gt;</th><th scope=col>&lt;fct&gt;</th></tr>\n",
       "</thead>\n",
       "<tbody>\n",
       "\t<tr><th scope=row>1</th><td>B28010</td><td>Algoma DSB                  </td><td>Public        </td><td>English</td></tr>\n",
       "\t<tr><th scope=row>2</th><td>B67202</td><td>Algonquin and Lakeshore CDSB</td><td>Roman Catholic</td><td>English</td></tr>\n",
       "\t<tr><th scope=row>3</th><td>B66010</td><td>Avon Maitland DSB           </td><td>Public        </td><td>English</td></tr>\n",
       "\t<tr><th scope=row>4</th><td>B66001</td><td>Bluewater DSB               </td><td>Public        </td><td>English</td></tr>\n",
       "\t<tr><th scope=row>5</th><td>B67164</td><td>Brant Haldimand Norfolk CDSB</td><td>Roman Catholic</td><td>English</td></tr>\n",
       "\t<tr><th scope=row>6</th><td>B67008</td><td>Bruce-Grey CDSB             </td><td>Roman Catholic</td><td>English</td></tr>\n",
       "</tbody>\n",
       "</table>\n"
      ],
      "text/latex": [
       "A data.frame: 6 × 4\n",
       "\\begin{tabular}{r|llll}\n",
       "  & B\\_ID & B\\_NAME & TYPE & LANGUAGE\\\\\n",
       "  & <fct> & <fct> & <fct> & <fct>\\\\\n",
       "\\hline\n",
       "\t1 & B28010 & Algoma DSB                   & Public         & English\\\\\n",
       "\t2 & B67202 & Algonquin and Lakeshore CDSB & Roman Catholic & English\\\\\n",
       "\t3 & B66010 & Avon Maitland DSB            & Public         & English\\\\\n",
       "\t4 & B66001 & Bluewater DSB                & Public         & English\\\\\n",
       "\t5 & B67164 & Brant Haldimand Norfolk CDSB & Roman Catholic & English\\\\\n",
       "\t6 & B67008 & Bruce-Grey CDSB              & Roman Catholic & English\\\\\n",
       "\\end{tabular}\n"
      ],
      "text/markdown": [
       "\n",
       "A data.frame: 6 × 4\n",
       "\n",
       "| <!--/--> | B_ID &lt;fct&gt; | B_NAME &lt;fct&gt; | TYPE &lt;fct&gt; | LANGUAGE &lt;fct&gt; |\n",
       "|---|---|---|---|---|\n",
       "| 1 | B28010 | Algoma DSB                   | Public         | English |\n",
       "| 2 | B67202 | Algonquin and Lakeshore CDSB | Roman Catholic | English |\n",
       "| 3 | B66010 | Avon Maitland DSB            | Public         | English |\n",
       "| 4 | B66001 | Bluewater DSB                | Public         | English |\n",
       "| 5 | B67164 | Brant Haldimand Norfolk CDSB | Roman Catholic | English |\n",
       "| 6 | B67008 | Bruce-Grey CDSB              | Roman Catholic | English |\n",
       "\n"
      ],
      "text/plain": [
       "  B_ID   B_NAME                       TYPE           LANGUAGE\n",
       "1 B28010 Algoma DSB                   Public         English \n",
       "2 B67202 Algonquin and Lakeshore CDSB Roman Catholic English \n",
       "3 B66010 Avon Maitland DSB            Public         English \n",
       "4 B66001 Bluewater DSB                Public         English \n",
       "5 B67164 Brant Haldimand Norfolk CDSB Roman Catholic English \n",
       "6 B67008 Bruce-Grey CDSB              Roman Catholic English "
      ]
     },
     "metadata": {},
     "output_type": "display_data"
    }
   ],
   "source": [
    "schooldf <- read.csv('https://cf-courses-data.s3.us.cloud-object-storage.appdomain.cloud/IBMDeveloperSkillsNetwork-RP0103EN-SkillsNetwork/data/school.csv')\n",
    "boarddf <- read.csv('https://cf-courses-data.s3.us.cloud-object-storage.appdomain.cloud/IBMDeveloperSkillsNetwork-RP0103EN-SkillsNetwork/data/board.csv')\n",
    "\n",
    "head(schooldf)\n",
    "head(boarddf)"
   ]
  },
  {
   "cell_type": "code",
   "execution_count": 13,
   "metadata": {
    "tags": []
   },
   "outputs": [],
   "source": [
    "dbWriteTable(conn, \"SCHOOL\", schooldf, overwrite=TRUE, header = TRUE)"
   ]
  },
  {
   "cell_type": "code",
   "execution_count": 14,
   "metadata": {
    "tags": []
   },
   "outputs": [],
   "source": [
    "dbWriteTable(conn,\"BOARD\",boarddf,overwrite=TRUE , header=TRUE)"
   ]
  },
  {
   "cell_type": "markdown",
   "metadata": {},
   "source": [
    "<details>\n",
    "<summary>Click here to view/hide solution</summary>\n",
    "<p>\n",
    "\n",
    "```\n",
    "dbWriteTable(conn, \"BOARD\", boarddf, overwrite=TRUE, header = TRUE)\n",
    "```\n",
    "\n",
    "</details>\n"
   ]
  },
  {
   "cell_type": "markdown",
   "metadata": {},
   "source": [
    "### Check list of tables in the present database\n"
   ]
  },
  {
   "cell_type": "code",
   "execution_count": 15,
   "metadata": {
    "tags": []
   },
   "outputs": [
    {
     "data": {
      "text/html": [
       "<style>\n",
       ".list-inline {list-style: none; margin:0; padding: 0}\n",
       ".list-inline>li {display: inline-block}\n",
       ".list-inline>li:not(:last-child)::after {content: \"\\00b7\"; padding: 0 .5ex}\n",
       "</style>\n",
       "<ol class=list-inline><li>'BOARD'</li><li>'SCHOOL'</li></ol>\n"
      ],
      "text/latex": [
       "\\begin{enumerate*}\n",
       "\\item 'BOARD'\n",
       "\\item 'SCHOOL'\n",
       "\\end{enumerate*}\n"
      ],
      "text/markdown": [
       "1. 'BOARD'\n",
       "2. 'SCHOOL'\n",
       "\n",
       "\n"
      ],
      "text/plain": [
       "[1] \"BOARD\"  \"SCHOOL\""
      ]
     },
     "metadata": {},
     "output_type": "display_data"
    }
   ],
   "source": [
    "dbListTables(conn)"
   ]
  },
  {
   "cell_type": "markdown",
   "metadata": {},
   "source": [
    "### Print details for the tables BOARD and SCHOOL\n"
   ]
  },
  {
   "cell_type": "code",
   "execution_count": 16,
   "metadata": {
    "tags": []
   },
   "outputs": [
    {
     "name": "stdout",
     "output_type": "stream",
     "text": [
      "\n",
      "Column info for table BOARD :\n",
      "      name      type\n",
      "1     B_ID character\n",
      "2   B_NAME character\n",
      "3     TYPE character\n",
      "4 LANGUAGE character\n",
      "\n",
      "Column info for table SCHOOL :\n"
     ]
    },
    {
     "name": "stderr",
     "output_type": "stream",
     "text": [
      "Warning message:\n",
      "“Closing open result set, pending rows”"
     ]
    },
    {
     "name": "stdout",
     "output_type": "stream",
     "text": [
      "        name      type\n",
      "1       B_ID character\n",
      "2       S_ID   integer\n",
      "3     S_NAME character\n",
      "4      LEVEL character\n",
      "5 ENROLLMENT   integer\n"
     ]
    }
   ],
   "source": [
    "tables1 = dbListTables(conn)\n",
    "for (table in tables1){  \n",
    "        cat (\"\\nColumn info for table\", table, \":\\n\")\n",
    "        col.detail <- dbColumnInfo(dbSendQuery(conn,paste( \"select * from\",table)))\n",
    "        print(col.detail)\n",
    "}"
   ]
  },
  {
   "cell_type": "markdown",
   "metadata": {},
   "source": [
    "Display initial data from the BOARD dataframe.\n"
   ]
  },
  {
   "cell_type": "code",
   "execution_count": 17,
   "metadata": {
    "tags": []
   },
   "outputs": [
    {
     "name": "stderr",
     "output_type": "stream",
     "text": [
      "Warning message:\n",
      "“Closing open result set, pending rows”"
     ]
    },
    {
     "data": {
      "text/html": [
       "<table>\n",
       "<caption>A data.frame: 5 × 4</caption>\n",
       "<thead>\n",
       "\t<tr><th scope=col>B_ID</th><th scope=col>B_NAME</th><th scope=col>TYPE</th><th scope=col>LANGUAGE</th></tr>\n",
       "\t<tr><th scope=col>&lt;chr&gt;</th><th scope=col>&lt;chr&gt;</th><th scope=col>&lt;chr&gt;</th><th scope=col>&lt;chr&gt;</th></tr>\n",
       "</thead>\n",
       "<tbody>\n",
       "\t<tr><td>B28010</td><td>Algoma DSB                  </td><td>Public        </td><td>English</td></tr>\n",
       "\t<tr><td>B67202</td><td>Algonquin and Lakeshore CDSB</td><td>Roman Catholic</td><td>English</td></tr>\n",
       "\t<tr><td>B66010</td><td>Avon Maitland DSB           </td><td>Public        </td><td>English</td></tr>\n",
       "\t<tr><td>B66001</td><td>Bluewater DSB               </td><td>Public        </td><td>English</td></tr>\n",
       "\t<tr><td>B67164</td><td>Brant Haldimand Norfolk CDSB</td><td>Roman Catholic</td><td>English</td></tr>\n",
       "</tbody>\n",
       "</table>\n"
      ],
      "text/latex": [
       "A data.frame: 5 × 4\n",
       "\\begin{tabular}{llll}\n",
       " B\\_ID & B\\_NAME & TYPE & LANGUAGE\\\\\n",
       " <chr> & <chr> & <chr> & <chr>\\\\\n",
       "\\hline\n",
       "\t B28010 & Algoma DSB                   & Public         & English\\\\\n",
       "\t B67202 & Algonquin and Lakeshore CDSB & Roman Catholic & English\\\\\n",
       "\t B66010 & Avon Maitland DSB            & Public         & English\\\\\n",
       "\t B66001 & Bluewater DSB                & Public         & English\\\\\n",
       "\t B67164 & Brant Haldimand Norfolk CDSB & Roman Catholic & English\\\\\n",
       "\\end{tabular}\n"
      ],
      "text/markdown": [
       "\n",
       "A data.frame: 5 × 4\n",
       "\n",
       "| B_ID &lt;chr&gt; | B_NAME &lt;chr&gt; | TYPE &lt;chr&gt; | LANGUAGE &lt;chr&gt; |\n",
       "|---|---|---|---|\n",
       "| B28010 | Algoma DSB                   | Public         | English |\n",
       "| B67202 | Algonquin and Lakeshore CDSB | Roman Catholic | English |\n",
       "| B66010 | Avon Maitland DSB            | Public         | English |\n",
       "| B66001 | Bluewater DSB                | Public         | English |\n",
       "| B67164 | Brant Haldimand Norfolk CDSB | Roman Catholic | English |\n",
       "\n"
      ],
      "text/plain": [
       "  B_ID   B_NAME                       TYPE           LANGUAGE\n",
       "1 B28010 Algoma DSB                   Public         English \n",
       "2 B67202 Algonquin and Lakeshore CDSB Roman Catholic English \n",
       "3 B66010 Avon Maitland DSB            Public         English \n",
       "4 B66001 Bluewater DSB                Public         English \n",
       "5 B67164 Brant Haldimand Norfolk CDSB Roman Catholic English "
      ]
     },
     "metadata": {},
     "output_type": "display_data"
    }
   ],
   "source": [
    "dbGetQuery(conn, 'SELECT * FROM BOARD limit 5')"
   ]
  },
  {
   "cell_type": "markdown",
   "metadata": {},
   "source": [
    "Display some records from the beginning of the SCHOOL dataframe.\n"
   ]
  },
  {
   "cell_type": "code",
   "execution_count": 18,
   "metadata": {
    "tags": []
   },
   "outputs": [
    {
     "data": {
      "text/html": [
       "<table>\n",
       "<caption>A data.frame: 5 × 5</caption>\n",
       "<thead>\n",
       "\t<tr><th scope=col>B_ID</th><th scope=col>S_ID</th><th scope=col>S_NAME</th><th scope=col>LEVEL</th><th scope=col>ENROLLMENT</th></tr>\n",
       "\t<tr><th scope=col>&lt;chr&gt;</th><th scope=col>&lt;int&gt;</th><th scope=col>&lt;chr&gt;</th><th scope=col>&lt;chr&gt;</th><th scope=col>&lt;int&gt;</th></tr>\n",
       "</thead>\n",
       "<tbody>\n",
       "\t<tr><td>B28010</td><td>891240</td><td>Alexander Henry HS            </td><td>Secondary </td><td>145</td></tr>\n",
       "\t<tr><td>B28010</td><td>902344</td><td>Algoma Education Connection SS</td><td>Secondary </td><td>385</td></tr>\n",
       "\t<tr><td>B28010</td><td> 19186</td><td>Anna McCrea PS                </td><td>Elementary</td><td>177</td></tr>\n",
       "\t<tr><td>B28010</td><td> 67679</td><td>Arthur Henderson PS           </td><td>Elementary</td><td>104</td></tr>\n",
       "\t<tr><td>B28010</td><td> 28932</td><td>Aweres PS                     </td><td>Elementary</td><td> 95</td></tr>\n",
       "</tbody>\n",
       "</table>\n"
      ],
      "text/latex": [
       "A data.frame: 5 × 5\n",
       "\\begin{tabular}{lllll}\n",
       " B\\_ID & S\\_ID & S\\_NAME & LEVEL & ENROLLMENT\\\\\n",
       " <chr> & <int> & <chr> & <chr> & <int>\\\\\n",
       "\\hline\n",
       "\t B28010 & 891240 & Alexander Henry HS             & Secondary  & 145\\\\\n",
       "\t B28010 & 902344 & Algoma Education Connection SS & Secondary  & 385\\\\\n",
       "\t B28010 &  19186 & Anna McCrea PS                 & Elementary & 177\\\\\n",
       "\t B28010 &  67679 & Arthur Henderson PS            & Elementary & 104\\\\\n",
       "\t B28010 &  28932 & Aweres PS                      & Elementary &  95\\\\\n",
       "\\end{tabular}\n"
      ],
      "text/markdown": [
       "\n",
       "A data.frame: 5 × 5\n",
       "\n",
       "| B_ID &lt;chr&gt; | S_ID &lt;int&gt; | S_NAME &lt;chr&gt; | LEVEL &lt;chr&gt; | ENROLLMENT &lt;int&gt; |\n",
       "|---|---|---|---|---|\n",
       "| B28010 | 891240 | Alexander Henry HS             | Secondary  | 145 |\n",
       "| B28010 | 902344 | Algoma Education Connection SS | Secondary  | 385 |\n",
       "| B28010 |  19186 | Anna McCrea PS                 | Elementary | 177 |\n",
       "| B28010 |  67679 | Arthur Henderson PS            | Elementary | 104 |\n",
       "| B28010 |  28932 | Aweres PS                      | Elementary |  95 |\n",
       "\n"
      ],
      "text/plain": [
       "  B_ID   S_ID   S_NAME                         LEVEL      ENROLLMENT\n",
       "1 B28010 891240 Alexander Henry HS             Secondary  145       \n",
       "2 B28010 902344 Algoma Education Connection SS Secondary  385       \n",
       "3 B28010  19186 Anna McCrea PS                 Elementary 177       \n",
       "4 B28010  67679 Arthur Henderson PS            Elementary 104       \n",
       "5 B28010  28932 Aweres PS                      Elementary  95       "
      ]
     },
     "metadata": {},
     "output_type": "display_data"
    }
   ],
   "source": [
    "dbGetQuery(conn,'select * from SCHOOL limit 5')"
   ]
  },
  {
   "cell_type": "markdown",
   "metadata": {},
   "source": [
    "<details>\n",
    "<summary>Click here to view/hide solution</summary>\n",
    "<p>\n",
    "\n",
    "```\n",
    "dbGetQuery(conn, 'SELECT * FROM  SCHOOL limit 5')\n",
    "```\n",
    "\n",
    "</details>\n"
   ]
  },
  {
   "cell_type": "markdown",
   "metadata": {},
   "source": [
    "<a id=\"ref4h\"></a>\n",
    "\n",
    "### H. Fetch data from the database\n"
   ]
  },
  {
   "cell_type": "markdown",
   "metadata": {},
   "source": [
    "Fetch the data from the database table BOARD and display some rows from the end of the data.\n"
   ]
  },
  {
   "cell_type": "code",
   "execution_count": null,
   "metadata": {},
   "outputs": [],
   "source": [
    "boarddb <- dbGetQuery(conn, 'SELECT * FROM BOARD limit 5')\n",
    "tail(boarddb)"
   ]
  },
  {
   "cell_type": "markdown",
   "metadata": {},
   "source": [
    "Fetch the data from the database table SCHOOL and and display some rows from the end of the data.\n"
   ]
  },
  {
   "cell_type": "code",
   "execution_count": 19,
   "metadata": {
    "tags": []
   },
   "outputs": [
    {
     "data": {
      "text/html": [
       "<table>\n",
       "<caption>A data.frame: 5 × 5</caption>\n",
       "<thead>\n",
       "\t<tr><th></th><th scope=col>B_ID</th><th scope=col>S_ID</th><th scope=col>S_NAME</th><th scope=col>LEVEL</th><th scope=col>ENROLLMENT</th></tr>\n",
       "\t<tr><th></th><th scope=col>&lt;chr&gt;</th><th scope=col>&lt;int&gt;</th><th scope=col>&lt;chr&gt;</th><th scope=col>&lt;chr&gt;</th><th scope=col>&lt;int&gt;</th></tr>\n",
       "</thead>\n",
       "<tbody>\n",
       "\t<tr><th scope=row>1</th><td>B28010</td><td>891240</td><td>Alexander Henry HS            </td><td>Secondary </td><td>145</td></tr>\n",
       "\t<tr><th scope=row>2</th><td>B28010</td><td>902344</td><td>Algoma Education Connection SS</td><td>Secondary </td><td>385</td></tr>\n",
       "\t<tr><th scope=row>3</th><td>B28010</td><td> 19186</td><td>Anna McCrea PS                </td><td>Elementary</td><td>177</td></tr>\n",
       "\t<tr><th scope=row>4</th><td>B28010</td><td> 67679</td><td>Arthur Henderson PS           </td><td>Elementary</td><td>104</td></tr>\n",
       "\t<tr><th scope=row>5</th><td>B28010</td><td> 28932</td><td>Aweres PS                     </td><td>Elementary</td><td> 95</td></tr>\n",
       "</tbody>\n",
       "</table>\n"
      ],
      "text/latex": [
       "A data.frame: 5 × 5\n",
       "\\begin{tabular}{r|lllll}\n",
       "  & B\\_ID & S\\_ID & S\\_NAME & LEVEL & ENROLLMENT\\\\\n",
       "  & <chr> & <int> & <chr> & <chr> & <int>\\\\\n",
       "\\hline\n",
       "\t1 & B28010 & 891240 & Alexander Henry HS             & Secondary  & 145\\\\\n",
       "\t2 & B28010 & 902344 & Algoma Education Connection SS & Secondary  & 385\\\\\n",
       "\t3 & B28010 &  19186 & Anna McCrea PS                 & Elementary & 177\\\\\n",
       "\t4 & B28010 &  67679 & Arthur Henderson PS            & Elementary & 104\\\\\n",
       "\t5 & B28010 &  28932 & Aweres PS                      & Elementary &  95\\\\\n",
       "\\end{tabular}\n"
      ],
      "text/markdown": [
       "\n",
       "A data.frame: 5 × 5\n",
       "\n",
       "| <!--/--> | B_ID &lt;chr&gt; | S_ID &lt;int&gt; | S_NAME &lt;chr&gt; | LEVEL &lt;chr&gt; | ENROLLMENT &lt;int&gt; |\n",
       "|---|---|---|---|---|---|\n",
       "| 1 | B28010 | 891240 | Alexander Henry HS             | Secondary  | 145 |\n",
       "| 2 | B28010 | 902344 | Algoma Education Connection SS | Secondary  | 385 |\n",
       "| 3 | B28010 |  19186 | Anna McCrea PS                 | Elementary | 177 |\n",
       "| 4 | B28010 |  67679 | Arthur Henderson PS            | Elementary | 104 |\n",
       "| 5 | B28010 |  28932 | Aweres PS                      | Elementary |  95 |\n",
       "\n"
      ],
      "text/plain": [
       "  B_ID   S_ID   S_NAME                         LEVEL      ENROLLMENT\n",
       "1 B28010 891240 Alexander Henry HS             Secondary  145       \n",
       "2 B28010 902344 Algoma Education Connection SS Secondary  385       \n",
       "3 B28010  19186 Anna McCrea PS                 Elementary 177       \n",
       "4 B28010  67679 Arthur Henderson PS            Elementary 104       \n",
       "5 B28010  28932 Aweres PS                      Elementary  95       "
      ]
     },
     "metadata": {},
     "output_type": "display_data"
    }
   ],
   "source": [
    "schooldb<-dbGetQuery(conn,'select * from SCHOOL limit 5')\n",
    "tail(schooldb)"
   ]
  },
  {
   "cell_type": "markdown",
   "metadata": {},
   "source": [
    "<details>\n",
    "<summary>Click here to view/hide solution</summary>\n",
    "<p>\n",
    "\n",
    "```\n",
    "schooldb <- dbGetQuery(conn, 'SELECT * FROM  SCHOOL limit 5')\n",
    "tail(schooldb)\n",
    "```\n",
    "\n",
    "</details>\n"
   ]
  },
  {
   "cell_type": "markdown",
   "metadata": {},
   "source": [
    "<a id=\"ref4i\"></a>\n",
    "\n",
    "### I. Plot the data (using ggplot2)\n"
   ]
  },
  {
   "cell_type": "code",
   "execution_count": 20,
   "metadata": {
    "tags": []
   },
   "outputs": [
    {
     "name": "stderr",
     "output_type": "stream",
     "text": [
      "Warning message:\n",
      "“replacing previous import ‘lifecycle::last_warnings’ by ‘rlang::last_warnings’ when loading ‘tibble’”Warning message:\n",
      "“replacing previous import ‘ellipsis::check_dots_unnamed’ by ‘rlang::check_dots_unnamed’ when loading ‘tibble’”Warning message:\n",
      "“replacing previous import ‘ellipsis::check_dots_used’ by ‘rlang::check_dots_used’ when loading ‘tibble’”Warning message:\n",
      "“replacing previous import ‘ellipsis::check_dots_empty’ by ‘rlang::check_dots_empty’ when loading ‘tibble’”"
     ]
    }
   ],
   "source": [
    "library(ggplot2);"
   ]
  },
  {
   "cell_type": "markdown",
   "metadata": {},
   "source": [
    "<h4>Get the elementary school data from the database from both tables in descending sequence.</h4>\n"
   ]
  },
  {
   "cell_type": "code",
   "execution_count": 22,
   "metadata": {
    "tags": []
   },
   "outputs": [],
   "source": [
    "elequery <- paste(\"select ENROLLMENT \n",
    "from SCHOOL s, BOARD b \n",
    "where b.B_NAME = 'Toronto DSB' and b.B_ID=s.B_ID \n",
    "and s.LEVEL = 'Elementary' \n",
    "order by ENROLLMENT desc\")"
   ]
  },
  {
   "cell_type": "markdown",
   "metadata": {},
   "source": [
    "<h4>Create the elementary school dataframe.</h4>\n"
   ]
  },
  {
   "cell_type": "code",
   "execution_count": 23,
   "metadata": {
    "tags": []
   },
   "outputs": [
    {
     "data": {
      "text/html": [
       "<style>\n",
       ".list-inline {list-style: none; margin:0; padding: 0}\n",
       ".list-inline>li {display: inline-block}\n",
       ".list-inline>li:not(:last-child)::after {content: \"\\00b7\"; padding: 0 .5ex}\n",
       "</style>\n",
       "<ol class=list-inline><li>476</li><li>1</li></ol>\n"
      ],
      "text/latex": [
       "\\begin{enumerate*}\n",
       "\\item 476\n",
       "\\item 1\n",
       "\\end{enumerate*}\n"
      ],
      "text/markdown": [
       "1. 476\n",
       "2. 1\n",
       "\n",
       "\n"
      ],
      "text/plain": [
       "[1] 476   1"
      ]
     },
     "metadata": {},
     "output_type": "display_data"
    }
   ],
   "source": [
    "eledf <- dbGetQuery(conn, elequery)\n",
    "dim(eledf)"
   ]
  },
  {
   "cell_type": "markdown",
   "metadata": {},
   "source": [
    "<h4>Create a density plot of elementary school enrollments.</h4>\n"
   ]
  },
  {
   "cell_type": "code",
   "execution_count": 24,
   "metadata": {
    "tags": []
   },
   "outputs": [
    {
     "data": {},
     "metadata": {},
     "output_type": "display_data"
    },
    {
     "data": {
      "image/png": "[encoded data removed]",
      "text/plain": [
       "plot without title"
      ]
     },
     "metadata": {},
     "output_type": "display_data",
     "source": "R display func"
    }
   ],
   "source": [
    "qplot(ENROLLMENT, data=eledf, geom=\"density\",  main=\"TDSB School Size - Elementary\")"
   ]
  },
  {
   "cell_type": "markdown",
   "metadata": {},
   "source": [
    "<h4>Create the secondary school enrollments query in descending sequence.</h4>\n"
   ]
  },
  {
   "cell_type": "code",
   "execution_count": 33,
   "metadata": {
    "tags": []
   },
   "outputs": [],
   "source": [
    "secquery<-paste(\"select s.ENROLLMENT from SCHOOL s,BOARD b\n",
    "                    WHERE b.B_NAME='Tornoto.DSB' and b.B_ID=s.B_ID\n",
    "                        and s.LEVEL='Secondary'\n",
    "                        order by ENROLLMENT desc\")"
   ]
  },
  {
   "cell_type": "markdown",
   "metadata": {},
   "source": [
    "<details>\n",
    "<summary>Click here to view/hide hint</summary>\n",
    "<p>\n",
    "\n",
    "```\n",
    "# Fill in the ...\n",
    "sec... <- paste(\"... s.enrollment as ... \n",
    "from ... s, board b \n",
    "where b.b_... = 'Toronto ...' and b.b_id=s.... \n",
    "and s.... = 'Secondary' \n",
    "order by ... desc\")\n",
    "```\n",
    "\n",
    "</details>\n"
   ]
  },
  {
   "cell_type": "markdown",
   "metadata": {},
   "source": [
    "<details>\n",
    "<summary>Click here to view/hide solution</summary>\n",
    "<p>\n",
    "\n",
    "```\n",
    "secquery <- paste(\"select s.ENROLLMENT \n",
    "from SCHOOL s, BOARD b \n",
    "where b.B_NAME = 'Toronto DSB' and b.B_ID=s.B_ID\n",
    "and s.LEVEL = 'Secondary' \n",
    "order by ENROLLMENT desc\")\n",
    "```\n",
    "\n",
    "</details>\n"
   ]
  },
  {
   "cell_type": "markdown",
   "metadata": {},
   "source": [
    "<h4>Create the dataframe using the data in the database.</h4>\n"
   ]
  },
  {
   "cell_type": "code",
   "execution_count": 37,
   "metadata": {
    "tags": []
   },
   "outputs": [
    {
     "data": {
      "text/html": [
       "<style>\n",
       ".list-inline {list-style: none; margin:0; padding: 0}\n",
       ".list-inline>li {display: inline-block}\n",
       ".list-inline>li:not(:last-child)::after {content: \"\\00b7\"; padding: 0 .5ex}\n",
       "</style>\n",
       "<ol class=list-inline><li>0</li><li>1</li></ol>\n"
      ],
      "text/latex": [
       "\\begin{enumerate*}\n",
       "\\item 0\n",
       "\\item 1\n",
       "\\end{enumerate*}\n"
      ],
      "text/markdown": [
       "1. 0\n",
       "2. 1\n",
       "\n",
       "\n"
      ],
      "text/plain": [
       "[1] 0 1"
      ]
     },
     "metadata": {},
     "output_type": "display_data"
    }
   ],
   "source": [
    "secdf <- dbGetQuery(conn, secquery)\n",
    "dim(secdf)"
   ]
  },
  {
   "cell_type": "markdown",
   "metadata": {},
   "source": [
    "<details>\n",
    "<summary>Click here to view/hide hint</summary>\n",
    "<p>\n",
    "\n",
    "```\n",
    "# Fill in the ...\n",
    "secdf <- dbGet...(conn, sec...)\n",
    "```\n",
    "\n",
    "</details>\n"
   ]
  },
  {
   "cell_type": "markdown",
   "metadata": {},
   "source": [
    "<details>\n",
    "<summary>Click here to view/hide solution</summary>\n",
    "<p>\n",
    "\n",
    "```\n",
    "secdf <- dbGetQuery(conn, secquery)\n",
    "```\n",
    "\n",
    "</details>\n"
   ]
  },
  {
   "cell_type": "markdown",
   "metadata": {},
   "source": [
    "<h4>Create a density plot of secondary school enrollments.</h4>\n"
   ]
  },
  {
   "cell_type": "code",
   "execution_count": 42,
   "metadata": {
    "tags": []
   },
   "outputs": [
    {
     "data": {},
     "metadata": {},
     "output_type": "display_data"
    },
    {
     "data": {
      "image/png": "[encoded data removed]",
      "text/plain": [
       "plot without title"
      ]
     },
     "metadata": {},
     "output_type": "display_data",
     "source": "R display func"
    }
   ],
   "source": [
    "qplot(ENROLLMENT, data=secdf, geom=\"density\", main=\"TDSB School Size - Secondary\")"
   ]
  },
  {
   "cell_type": "markdown",
   "metadata": {},
   "source": [
    "<details>\n",
    "<summary>Click here to view/hide hint</summary>\n",
    "<p>\n",
    "\n",
    "```\n",
    "# Fill in the ...\n",
    "q...(ENROLLMENT, ...=secdf, ...=\"density\", ...=\"TDSB School Size - ...\")\n",
    "```\n",
    "\n",
    "</details>\n"
   ]
  },
  {
   "cell_type": "markdown",
   "metadata": {},
   "source": [
    "<details>\n",
    "<summary>Click here to view/hide solution</summary>\n",
    "<p>\n",
    "\n",
    "```\n",
    "qplot(ENROLLMENT, data=secdf, geom=\"density\", main=\"TDSB School Size - Secondary\")\n",
    "```\n",
    "\n",
    "</details>\n"
   ]
  },
  {
   "cell_type": "markdown",
   "metadata": {},
   "source": [
    "<h4>Query the BOARD database for enrollments.</h4>\n"
   ]
  },
  {
   "cell_type": "code",
   "execution_count": 43,
   "metadata": {
    "tags": []
   },
   "outputs": [],
   "source": [
    "borquery<-paste(\"Select b.B_NAME,s.S_NAME ,LEVEL ,ENROLLMENT from board b ,school s\n",
    "where b.B_ID =s.B_ID and b.B_NAME = 'Toronto DSB'\")"
   ]
  },
  {
   "cell_type": "markdown",
   "metadata": {},
   "source": [
    "<details>\n",
    "<summary>Click here to view/hide hint</summary>\n",
    "<p>\n",
    "\n",
    "```\n",
    "# Fill in the ...\n",
    "den... <- paste(\"select b.b_..., s.s_..., level as ..., ... \n",
    " from board b, ... s where b.... = s.b_id and b.b_... = 'Toronto DSB'\")\n",
    "```\n",
    "\n",
    "</details>\n"
   ]
  },
  {
   "cell_type": "markdown",
   "metadata": {},
   "source": [
    "<details>\n",
    "<summary>Click here to view/hide solution</summary>\n",
    "<p>\n",
    "\n",
    "```\n",
    "denquery <- paste(\"select b.B_NAME, s.S_NAME, LEVEL , ENROLLMENT \n",
    " from BOARD b, SCHOOL s where b.B_ID = s.B_ID and b.B_NAME = 'Toronto DSB'\")\n",
    "```\n",
    "\n",
    "</details>\n"
   ]
  },
  {
   "cell_type": "markdown",
   "metadata": {},
   "source": [
    "<h4>Query the database.</h4>\n"
   ]
  },
  {
   "cell_type": "code",
   "execution_count": 44,
   "metadata": {
    "tags": []
   },
   "outputs": [],
   "source": [
    "bordf<-dbGetQuery(conn,borquery)"
   ]
  },
  {
   "cell_type": "markdown",
   "metadata": {},
   "source": [
    "<details>\n",
    "<summary>Click here to view/hide hint</summary>\n",
    "<p>\n",
    "\n",
    "```\n",
    "# Fill in the ...\n",
    "d...f <- dbGet...(conn, den...)\n",
    "```\n",
    "\n",
    "</details>\n"
   ]
  },
  {
   "cell_type": "markdown",
   "metadata": {},
   "source": [
    "<details>\n",
    "<summary>Click here to view/hide solution</summary>\n",
    "<p>\n",
    "\n",
    "```\n",
    "dendf <- dbGetQuery(conn, denquery)\n",
    "```\n",
    "\n",
    "</details>\n"
   ]
  },
  {
   "cell_type": "markdown",
   "metadata": {},
   "source": [
    "Create a box plot of enrollements in elementary and secondary schools in Toronto.\n"
   ]
  },
  {
   "cell_type": "code",
   "execution_count": 46,
   "metadata": {
    "tags": []
   },
   "outputs": [
    {
     "data": {
      "image/png": "[encoded data removed]",
      "text/plain": [
       "Plot with title “Toronto DSB”"
      ]
     },
     "metadata": {},
     "output_type": "display_data",
     "source": "R display func"
    }
   ],
   "source": [
    "bordf$LEVEL <- as.factor(bordf$LEVEL)\n",
    "boxplot(ENROLLMENT ~ LEVEL, bordf, names =c(\"Secondary\",\"Elementary\"), main=\"Toronto DSB\")"
   ]
  },
  {
   "cell_type": "code",
   "execution_count": null,
   "metadata": {},
   "outputs": [],
   "source": []
  },
  {
   "cell_type": "markdown",
   "metadata": {},
   "source": [
    "<details>\n",
    "<summary>Click here to view/hide solution</summary>\n",
    "<p>\n",
    "\n",
    "```\n",
    "dendf$LEVEL <- as.factor(dendf$LEVEL)\n",
    "boxplot(ENROLLMENT ~ LEVEL, dendf, names =c(\"Secondary\",\"Elementary\"), main=\"Toronto DSB\")\n",
    "```\n",
    "\n",
    "</details>\n"
   ]
  },
  {
   "cell_type": "markdown",
   "metadata": {},
   "source": [
    "<a id=\"ref4o\"></a>\n",
    "\n",
    "### Summary\n"
   ]
  },
  {
   "cell_type": "markdown",
   "metadata": {},
   "source": [
    "In this lab you created and queried database objects from an R notebook in Jupyter, and you used ggplot2 to plot the data using R libraries.\n"
   ]
  },
  {
   "cell_type": "markdown",
   "metadata": {},
   "source": [
    "<hr>\n"
   ]
  },
  {
   "cell_type": "markdown",
   "metadata": {},
   "source": [
    "#### Thank you for completing this module on creating and querying database objects from R.\n"
   ]
  },
  {
   "cell_type": "markdown",
   "metadata": {},
   "source": [
    "<hr>\n",
    "\n",
    "## Authors\n",
    "\n",
    "-   [Rav Ahuja](https://ca.linkedin.com/in/rav-ahuja-8aa4562a?cm_mmc=Email_Newsletter-_-Developer_Ed%2BTech-_-WW_WW-_-SkillsNetwork-Courses-IBMDeveloperSkillsNetwork-RP0103EN-SkillsNetwork-23619267&cm_mmca1=000026UJ&cm_mmca2=10006555&cm_mmca3=M12345678&cvosrc=email.Newsletter.M12345678&cvo_campaign=000026UJ&cm_mmc=Email_Newsletter-_-Developer_Ed%2BTech-_-WW_WW-_-SkillsNetwork-Courses-IBMDeveloperSkillsNetwork-RP0103EN-SkillsNetwork-23619267&cm_mmca1=000026UJ&cm_mmca2=10006555&cm_mmca3=M12345678&cvosrc=email.Newsletter.M12345678&cvo_campaign=000026UJ&cm_mmc=Email_Newsletter-_-Developer_Ed%2BTech-_-WW_WW-_-SkillsNetwork-Courses-IBMDeveloperSkillsNetwork-RP0103EN-SkillsNetwork-23619267&cm_mmca1=000026UJ&cm_mmca2=10006555&cm_mmca3=M12345678&cvosrc=email.Newsletter.M12345678&cvo_campaign=000026UJ)\n",
    "-   [Agatha Colangelo](https://www.linkedin.com/in/agathacolangelo?cm_mmc=Email_Newsletter-_-Developer_Ed%2BTech-_-WW_WW-_-SkillsNetwork-Courses-IBMDeveloperSkillsNetwork-RP0103EN-SkillsNetwork-23619267&cm_mmca1=000026UJ&cm_mmca2=10006555&cm_mmca3=M12345678&cvosrc=email.Newsletter.M12345678&cvo_campaign=000026UJ&cm_mmc=Email_Newsletter-_-Developer_Ed%2BTech-_-WW_WW-_-SkillsNetwork-Courses-IBMDeveloperSkillsNetwork-RP0103EN-SkillsNetwork-23619267&cm_mmca1=000026UJ&cm_mmca2=10006555&cm_mmca3=M12345678&cvosrc=email.Newsletter.M12345678&cvo_campaign=000026UJ&cm_mmc=Email_Newsletter-_-Developer_Ed%2BTech-_-WW_WW-_-SkillsNetwork-Courses-IBMDeveloperSkillsNetwork-RP0103EN-SkillsNetwork-23619267&cm_mmca1=000026UJ&cm_mmca2=10006555&cm_mmca3=M12345678&cvosrc=email.Newsletter.M12345678&cvo_campaign=000026UJ)\n",
    "-   [Sandip Saha Joy](https://www.linkedin.com/in/sandipsahajoy?cm_mmc=Email_Newsletter-_-Developer_Ed%2BTech-_-WW_WW-_-SkillsNetwork-Courses-IBMDeveloperSkillsNetwork-RP0103EN-SkillsNetwork-23619267&cm_mmca1=000026UJ&cm_mmca2=10006555&cm_mmca3=M12345678&cvosrc=email.Newsletter.M12345678&cvo_campaign=000026UJ&cm_mmc=Email_Newsletter-_-Developer_Ed%2BTech-_-WW_WW-_-SkillsNetwork-Courses-IBMDeveloperSkillsNetwork-RP0103EN-SkillsNetwork-23619267&cm_mmca1=000026UJ&cm_mmca2=10006555&cm_mmca3=M12345678&cvosrc=email.Newsletter.M12345678&cvo_campaign=000026UJ&cm_mmc=Email_Newsletter-_-Developer_Ed%2BTech-_-WW_WW-_-SkillsNetwork-Courses-IBMDeveloperSkillsNetwork-RP0103EN-SkillsNetwork-23619267&cm_mmca1=000026UJ&cm_mmca2=10006555&cm_mmca3=M12345678&cvosrc=email.Newsletter.M12345678&cvo_campaign=000026UJ)\n",
    "\n",
    "## Contributor(s)\n",
    "\n",
    "<h4> D.M.NAIDU </h4>\n",
    "\n",
    "\n",
    "## Changelog\n",
    "\n",
    "| Date (YYYY-MM-DD) | Version | Changed By                   | Change Description                 |\n",
    "| -----------------| ------- | ---------------------------- | ---------------------------------- |\n",
    "| 2022-03-03       |  2.0    |  D.M. Naidu                  |  Converted intial version to RSQLite|\n",
    "| 2021-01-22        | 2.0     | Sandip Saha Joy              | Created revised version of the lab |\n",
    "| 2017              | 1.0     | Rav Ahuja & Agatha Colangelo | Created initial version of the lab |\n",
    "\n",
    "<hr>\n",
    "\n",
    "<h2 align=center><font size = 5>Copyright &copy; IBM Corporation 2017-2022. All rights reserved.</h2>\n"
   ]
  }
 ],
 "metadata": {
  "kernelspec": {
   "display_name": "R",
   "language": "R",
   "name": "conda-env-r-r"
  },
  "language_info": {
   "codemirror_mode": "r",
   "file_extension": ".r",
   "mimetype": "text/x-r-source",
   "name": "R",
   "pygments_lexer": "r",
   "version": "3.5.1"
  }
 },
 "nbformat": 4,
 "nbformat_minor": 4
}
