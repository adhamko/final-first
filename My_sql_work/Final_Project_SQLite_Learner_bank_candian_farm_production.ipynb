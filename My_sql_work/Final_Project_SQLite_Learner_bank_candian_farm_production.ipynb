{
 "cells": [
  {
   "cell_type": "markdown",
   "metadata": {},
   "source": [
    "<center>\n",
    "    <img src=\"https://cf-courses-data.s3.us.cloud-object-storage.appdomain.cloud/assets/logos/SN_web_lightmode.png\" width=\"300\">\n",
    "</center>\n",
    "\n",
    "# Assignment: Notebook for Peer Assignment\n",
    "\n",
    "Estimated time needed: 45 minutes\n"
   ]
  },
  {
   "cell_type": "markdown",
   "metadata": {},
   "source": [
    "# Assignment Scenario\n",
    "\n",
    "Congratulations! You have just been hired by a US Venture Capital firm as a data analyst.\n",
    "\n",
    "The company is considering foreign grain markets to help meet its supply chain requirements for its recent investments in the microbrewery and microdistillery industry, which is involved with the production and distribution of craft beers and spirits.\n",
    "\n",
    "Your first task is to provide a high level analysis of crop production in Canada. Your stakeholders want to understand the current and historical performance of certain crop types in terms of supply and price volatility. For now they are mainly interested in a macro-view of Canada's crop farming industry, and how it relates to the relative value of the Canadian and US dollars.\n"
   ]
  },
  {
   "cell_type": "markdown",
   "metadata": {},
   "source": [
    "# Introduction\n",
    "\n",
    "Using this R notebook you will:\n",
    "\n",
    "1.  Understand four datasets\n",
    "2.  Load the datasets into four separate tables in a database\n",
    "3.  Execute SQL queries to answer assignment questions\n",
    "\n",
    "You have already encountered two of these datasets in the previous practice lab. You will be able to reuse much of the work you did there to prepare your database tables for executing SQL queries.\n"
   ]
  },
  {
   "cell_type": "markdown",
   "metadata": {},
   "source": [
    "# Understand the datasets\n",
    "\n",
    "To complete the assignment problems in this notebook you will be using subsetted snapshots of two datasets from Statistics Canada, and one from the Bank of Canada. The links to the prepared datasets are provided in the next section; the interested student can explore the landing pages for the source datasets as follows:\n",
    "\n",
    "1.  <a href=\"https://www150.statcan.gc.ca/t1/tbl1/en/tv.action?utm_medium=Exinfluencer&utm_source=Exinfluencer&utm_content=000026UJ&utm_term=10006555&utm_id=NA-SkillsNetwork-Channel-SkillsNetworkCoursesIBMRP0203ENSkillsNetwork23863830-2021-01-01&pid=3210035901\">Canadian Principal Crops (Data & Metadata)</a>\n",
    "2.  <a href=\"https://www150.statcan.gc.ca/t1/tbl1/en/tv.action?utm_medium=Exinfluencer&utm_source=Exinfluencer&utm_content=000026UJ&utm_term=10006555&utm_id=NA-SkillsNetwork-Channel-SkillsNetworkCoursesIBMRP0203ENSkillsNetwork23863830-2021-01-01&pid=3210007701\">Farm product prices (Data & Metadata)</a>\n",
    "3.  <a href=\"https://www.bankofcanada.ca/rates/exchange/daily-exchange-rates?utm_medium=Exinfluencer&utm_source=Exinfluencer&utm_content=000026UJ&utm_term=10006555&utm_id=NA-SkillsNetwork-Channel-SkillsNetworkCoursesIBMRP0203ENSkillsNetwork23863830-2021-01-01\">Bank of Canada daily average exchange rates</a>\n",
    "\n",
    "### 1. Canadian Principal Crops Data \\*\n",
    "\n",
    "This dataset contains agricultural production measures for the principle crops grown in Canada, including a breakdown by province and teritory, for each year from 1908 to 2020.\n",
    "\n",
    "For this assignment you will use a preprocessed snapshot of this dataset (see below).\n",
    "\n",
    "A detailed description of this dataset can be obtained from the StatsCan Data Portal at:\n",
    "[https://www150.statcan.gc.ca/t1/tbl1/en/tv.action?pid=3210035901](https://www150.statcan.gc.ca/t1/tbl1/en/tv.action?utm_medium=Exinfluencer&utm_source=Exinfluencer&utm_content=000026UJ&utm_term=10006555&utm_id=NA-SkillsNetwork-Channel-SkillsNetworkCoursesIBMRP0203ENSkillsNetwork23863830-2021-01-01&pid=3210035901)\\\n",
    "Detailed information is included in the metadata file and as header text in the data file, which can be downloaded - look for the 'download options' link.\n",
    "\n",
    "### 2. Farm product prices\n",
    "\n",
    "This dataset contains monthly average farm product prices for Canadian crops and livestock by province and teritory, from 1980 to 2020 (or 'last year', whichever is greatest).\n",
    "\n",
    "For this assignment you will use a preprocessed snapshot of this dataset (see below).\n",
    "\n",
    "A description of this dataset can be obtained from the StatsCan Data Portal at:\n",
    "[https://www150.statcan.gc.ca/t1/tbl1/en/tv.action?pid=3210007701](https://www150.statcan.gc.ca/t1/tbl1/en/tv.action?utm_medium=Exinfluencer&utm_source=Exinfluencer&utm_content=000026UJ&utm_term=10006555&utm_id=NA-SkillsNetwork-Channel-SkillsNetworkCoursesIBMRP0203ENSkillsNetwork23863830-2021-01-01&pid=3210007701)\n",
    "The information is included in the metadata file, which can be downloaded - look for the 'download options' link.\n",
    "\n",
    "### 3. Bank of Canada daily average exchange rates \\*\n",
    "\n",
    "This dataset contains the daily average exchange rates for multiple foreign currencies. Exchange rates are expressed as 1 unit of the foreign currency converted into Canadian dollars. It includes only the latest four years of data, and the rates are published once each business day by 16:30 ET.\n",
    "\n",
    "For this assignment you will use a snapshot of this dataset with only the USD-CAD exchange rates included (see next section). We have also prepared a monthly averaged version which you will be using below.\n",
    "\n",
    "A brief description of this dataset and the original dataset can be obtained from the Bank of Canada Data Portal at:\n",
    "[https://www.bankofcanada.ca/rates/exchange/daily-exchange-rates/](https://www.bankofcanada.ca/rates/exchange/daily-exchange-rates/?utm_medium=Exinfluencer&utm_source=Exinfluencer&utm_content=000026UJ&utm_term=10006555&utm_id=NA-SkillsNetwork-Channel-SkillsNetworkCoursesIBMRP0203ENSkillsNetwork23863830-2021-01-01)\n",
    "\n",
    "( \\* these datasets are the same as the ones you used in the practice lab)\n"
   ]
  },
  {
   "cell_type": "markdown",
   "metadata": {},
   "source": [
    "https://cf-courses-data.s3.us.cloud-object-storage.appdomain.cloud/IBM-RP0203EN-SkillsNetwork/labs/Final%20Project/Monthly_FX.csv### Dataset URLs\n",
    "\n",
    "1.  Annual Crop Data: <https://cf-courses-data.s3.us.cloud-object-storage.appdomain.cloud/IBM-RP0203EN-SkillsNetwork/labs/Final%20Project/Annual_Crop_Data.csv>\n",
    "\n",
    "2.  Farm product prices: <https://cf-courses-data.s3.us.cloud-object-storage.appdomain.cloud/IBM-RP0203EN-SkillsNetwork/labs/Final%20Project/Monthly_Farm_Prices.csv>\n",
    "\n",
    "3.  Daily FX Data: <https://cf-courses-data.s3.us.cloud-object-storage.appdomain.cloud/IBM-RP0203EN-SkillsNetwork/labs/Final%20Project/Daily_FX.csv>\n",
    "\n",
    "4.  Monthly FX Data: <https://cf-courses-data.s3.us.cloud-object-storage.appdomain.cloud/IBM-RP0203EN-SkillsNetwork/labs/Final%20Project/Monthly_FX.csv>\n",
    "\n",
    "<span style=\"color:red\">**IMPORTANT:**</span> You will be loading these datasets directly into R data frames from these URLs instead of from the StatsCan and Bank of Canada portals. The versions provided at these URLs are simplified and subsetted versions of the original datasets.\n"
   ]
  },
  {
   "cell_type": "markdown",
   "metadata": {},
   "source": [
    "#### Now let's load these datasets into four separate tables.\n",
    "\n",
    "Let's first load the RSQLite package:\n"
   ]
  },
  {
   "cell_type": "code",
   "execution_count": 8,
   "metadata": {
    "tags": []
   },
   "outputs": [
    {
     "name": "stderr",
     "output_type": "stream",
     "text": [
      "Updating HTML index of packages in '.Library'\n",
      "Making 'packages.html' ... done\n"
     ]
    }
   ],
   "source": [
    "install.packages(\"RSQLite\")\n"
   ]
  },
  {
   "cell_type": "code",
   "execution_count": 9,
   "metadata": {
    "tags": []
   },
   "outputs": [],
   "source": [
    "library(RSQLite)"
   ]
  },
  {
   "cell_type": "markdown",
   "metadata": {},
   "source": [
    "## Problem 1\n",
    "\n",
    "#### Create tables\n",
    "\n",
    "Establish a connection **conn** to the RSQLite database **FinalDB.sqlite**, and create the following four tables.\n",
    "\n",
    "1.  **CROP_DATA**\n",
    "2.  **FARM_PRICES**\n",
    "3.  **DAILY_FX**\n",
    "4.  **MONTHLY_FX**\n",
    "\n",
    "The previous practice lab will help you accomplish this.\n"
   ]
  },
  {
   "cell_type": "code",
   "execution_count": 11,
   "metadata": {
    "tags": []
   },
   "outputs": [
    {
     "name": "stdout",
     "output_type": "stream",
     "text": [
      "Table was created successfully.\n"
     ]
    }
   ],
   "source": [
    "df1<-dbExecute(conn, \n",
    "               \"CREATE TABLE ANNUAL_CROP_DATA (\n",
    "                                      CD_ID INTEGER NOT NULL,\n",
    "                                      YEAR DATE NOT NULL,\n",
    "                                      CROP_TYPE VARCHAR(20) NOT NULL,\n",
    "                                      GEO VARCHAR(20) NOT NULL, \n",
    "                                      SEEDED_AREA INTEGER NOT NULL,\n",
    "                                      HARVESTED_AREA INTEGER NOT NULL,\n",
    "                                      PRODUCTION INTEGER NOT NULL,\n",
    "                                      AVG_YIELD INTEGER NOT NULL,\n",
    "                                      PRIMARY KEY (CD_ID)\n",
    "                                      )\", \n",
    "               errors=FALSE\n",
    ")\n",
    "\n",
    "if (df1 == -1){\n",
    "  cat (\"An error has occurred.\\n\")\n",
    "  msg <- odbcGetErrMsg(conn)\n",
    "  print (msg)\n",
    "} else {\n",
    "  cat (\"Table was created successfully.\\n\")\n",
    "}"
   ]
  },
  {
   "cell_type": "code",
   "execution_count": 12,
   "metadata": {},
   "outputs": [
    {
     "name": "stdout",
     "output_type": "stream",
     "text": [
      "Table was created successfully.\n"
     ]
    }
   ],
   "source": [
    "df2<-dbExecute(conn,\n",
    "               \n",
    "               \"CREATE TABLE FARM_PRODUCT_PRICE (\n",
    "               \n",
    "                            CD_ID INTEGER NOT NULL,\n",
    "                            YEAR DATE NOT NULL,\n",
    "                            CROP_TYPE VARCHAR (20)NOT NULL,\n",
    "                            GEO VARCHAR (20)NOT NULL,\n",
    "                            PRICE_PRERMT FLOAT(6),\n",
    "                            PRIMARY KEY(CD_ID)\n",
    "      \n",
    "               \n",
    "               )\" , \n",
    "               \n",
    "               errors =FALSE\n",
    ")\n",
    "\n",
    "if (df2 == -1){\n",
    "  cat (\"An error has occurred.\\n\")\n",
    "  msg <- odbcGetErrMsg(conn)\n",
    "  print (msg)\n",
    "} else {\n",
    "  cat (\"Table was created successfully.\\n\")\n",
    "}"
   ]
  },
  {
   "cell_type": "code",
   "execution_count": 13,
   "metadata": {},
   "outputs": [
    {
     "name": "stdout",
     "output_type": "stream",
     "text": [
      "Table was created successfully.\n"
     ]
    }
   ],
   "source": [
    "df3 <- dbExecute(conn, \"CREATE TABLE DAILY_FX (\n",
    "                                DFX_ID INTEGER NOT NULL,\n",
    "                                DATE DATE NOT NULL, \n",
    "                                FXUSDCAD FLOAT(6),\n",
    "                                PRIMARY KEY (DFX_ID)\n",
    "                                )\",\n",
    "                 errors=FALSE\n",
    ")\n",
    "\n",
    "if (df3 == -1){\n",
    "  cat (\"An error has occurred.\\n\")\n",
    "  msg <- odbcGetErrMsg(conn)\n",
    "  print (msg)\n",
    "} else {\n",
    "  cat (\"Table was created successfully.\\n\")\n",
    "}"
   ]
  },
  {
   "cell_type": "code",
   "execution_count": 14,
   "metadata": {},
   "outputs": [
    {
     "name": "stdout",
     "output_type": "stream",
     "text": [
      "Table was created successfully.\n"
     ]
    }
   ],
   "source": [
    "df4<- dbExecute(conn, \"CREATE TABLE MONTHLY_FX (\n",
    "                                DFX_ID INTEGER NOT NULL,\n",
    "                                DATE DATE NOT NULL, \n",
    "                                FXUSDCAD FLOAT(6),\n",
    "                                PRIMARY KEY (DFX_ID)\n",
    "                                )\",\n",
    "                 errors=FALSE\n",
    ")\n",
    "\n",
    "if (df4== -1){\n",
    "  cat (\"An error has occurred.\\n\")\n",
    "  msg <- odbcGetErrMsg(conn)\n",
    "  print (msg)\n",
    "} else {\n",
    "  cat (\"Table was created successfully.\\n\")\n",
    "}"
   ]
  },
  {
   "cell_type": "code",
   "execution_count": null,
   "metadata": {},
   "outputs": [],
   "source": []
  },
  {
   "cell_type": "code",
   "execution_count": 15,
   "metadata": {
    "tags": []
   },
   "outputs": [
    {
     "data": {
      "text/html": [
       "<style>\n",
       ".list-inline {list-style: none; margin:0; padding: 0}\n",
       ".list-inline>li {display: inline-block}\n",
       ".list-inline>li:not(:last-child)::after {content: \"\\00b7\"; padding: 0 .5ex}\n",
       "</style>\n",
       "<ol class=list-inline><li>'ANNUAL_CROP_DATA'</li><li>'DAILY_FX'</li><li>'FARM_PRODUCT_PRICE'</li><li>'MONTHLY_FX'</li></ol>\n"
      ],
      "text/latex": [
       "\\begin{enumerate*}\n",
       "\\item 'ANNUAL\\_CROP\\_DATA'\n",
       "\\item 'DAILY\\_FX'\n",
       "\\item 'FARM\\_PRODUCT\\_PRICE'\n",
       "\\item 'MONTHLY\\_FX'\n",
       "\\end{enumerate*}\n"
      ],
      "text/markdown": [
       "1. 'ANNUAL_CROP_DATA'\n",
       "2. 'DAILY_FX'\n",
       "3. 'FARM_PRODUCT_PRICE'\n",
       "4. 'MONTHLY_FX'\n",
       "\n",
       "\n"
      ],
      "text/plain": [
       "[1] \"ANNUAL_CROP_DATA\"   \"DAILY_FX\"           \"FARM_PRODUCT_PRICE\"\n",
       "[4] \"MONTHLY_FX\"        "
      ]
     },
     "metadata": {},
     "output_type": "display_data"
    }
   ],
   "source": [
    "#check list of tables in the present db.\n",
    "dbListTables(conn)"
   ]
  },
  {
   "cell_type": "markdown",
   "metadata": {},
   "source": [
    "## Problem 2\n",
    "\n",
    "#### Read Datasets and load your tables in database\n",
    "\n",
    "Read the datasets into R dataframes using the urls provided above. Then load your tables in database.\n"
   ]
  },
  {
   "cell_type": "code",
   "execution_count": 16,
   "metadata": {},
   "outputs": [
    {
     "data": {
      "text/html": [
       "<table>\n",
       "<caption>A data.frame: 6 × 8</caption>\n",
       "<thead>\n",
       "\t<tr><th></th><th scope=col>CD_ID</th><th scope=col>YEAR</th><th scope=col>CROP_TYPE</th><th scope=col>GEO</th><th scope=col>SEEDED_AREA</th><th scope=col>HARVESTED_AREA</th><th scope=col>PRODUCTION</th><th scope=col>AVG_YIELD</th></tr>\n",
       "\t<tr><th></th><th scope=col>&lt;int&gt;</th><th scope=col>&lt;fct&gt;</th><th scope=col>&lt;fct&gt;</th><th scope=col>&lt;fct&gt;</th><th scope=col>&lt;int&gt;</th><th scope=col>&lt;int&gt;</th><th scope=col>&lt;int&gt;</th><th scope=col>&lt;int&gt;</th></tr>\n",
       "</thead>\n",
       "<tbody>\n",
       "\t<tr><th scope=row>1</th><td>0</td><td>1965-12-31</td><td>Barley</td><td>Alberta     </td><td>1372000</td><td>1372000</td><td>2504000</td><td>1825</td></tr>\n",
       "\t<tr><th scope=row>2</th><td>1</td><td>1965-12-31</td><td>Barley</td><td>Canada      </td><td>2476800</td><td>2476800</td><td>4752900</td><td>1920</td></tr>\n",
       "\t<tr><th scope=row>3</th><td>2</td><td>1965-12-31</td><td>Barley</td><td>Saskatchewan</td><td> 708000</td><td> 708000</td><td>1415000</td><td>2000</td></tr>\n",
       "\t<tr><th scope=row>4</th><td>3</td><td>1965-12-31</td><td>Canola</td><td>Alberta     </td><td> 297400</td><td> 297400</td><td> 215500</td><td> 725</td></tr>\n",
       "\t<tr><th scope=row>5</th><td>4</td><td>1965-12-31</td><td>Canola</td><td>Canada      </td><td> 580700</td><td> 580700</td><td> 512600</td><td> 885</td></tr>\n",
       "\t<tr><th scope=row>6</th><td>5</td><td>1965-12-31</td><td>Canola</td><td>Saskatchewan</td><td> 224600</td><td> 224600</td><td> 242700</td><td>1080</td></tr>\n",
       "</tbody>\n",
       "</table>\n"
      ],
      "text/latex": [
       "A data.frame: 6 × 8\n",
       "\\begin{tabular}{r|llllllll}\n",
       "  & CD\\_ID & YEAR & CROP\\_TYPE & GEO & SEEDED\\_AREA & HARVESTED\\_AREA & PRODUCTION & AVG\\_YIELD\\\\\n",
       "  & <int> & <fct> & <fct> & <fct> & <int> & <int> & <int> & <int>\\\\\n",
       "\\hline\n",
       "\t1 & 0 & 1965-12-31 & Barley & Alberta      & 1372000 & 1372000 & 2504000 & 1825\\\\\n",
       "\t2 & 1 & 1965-12-31 & Barley & Canada       & 2476800 & 2476800 & 4752900 & 1920\\\\\n",
       "\t3 & 2 & 1965-12-31 & Barley & Saskatchewan &  708000 &  708000 & 1415000 & 2000\\\\\n",
       "\t4 & 3 & 1965-12-31 & Canola & Alberta      &  297400 &  297400 &  215500 &  725\\\\\n",
       "\t5 & 4 & 1965-12-31 & Canola & Canada       &  580700 &  580700 &  512600 &  885\\\\\n",
       "\t6 & 5 & 1965-12-31 & Canola & Saskatchewan &  224600 &  224600 &  242700 & 1080\\\\\n",
       "\\end{tabular}\n"
      ],
      "text/markdown": [
       "\n",
       "A data.frame: 6 × 8\n",
       "\n",
       "| <!--/--> | CD_ID &lt;int&gt; | YEAR &lt;fct&gt; | CROP_TYPE &lt;fct&gt; | GEO &lt;fct&gt; | SEEDED_AREA &lt;int&gt; | HARVESTED_AREA &lt;int&gt; | PRODUCTION &lt;int&gt; | AVG_YIELD &lt;int&gt; |\n",
       "|---|---|---|---|---|---|---|---|---|\n",
       "| 1 | 0 | 1965-12-31 | Barley | Alberta      | 1372000 | 1372000 | 2504000 | 1825 |\n",
       "| 2 | 1 | 1965-12-31 | Barley | Canada       | 2476800 | 2476800 | 4752900 | 1920 |\n",
       "| 3 | 2 | 1965-12-31 | Barley | Saskatchewan |  708000 |  708000 | 1415000 | 2000 |\n",
       "| 4 | 3 | 1965-12-31 | Canola | Alberta      |  297400 |  297400 |  215500 |  725 |\n",
       "| 5 | 4 | 1965-12-31 | Canola | Canada       |  580700 |  580700 |  512600 |  885 |\n",
       "| 6 | 5 | 1965-12-31 | Canola | Saskatchewan |  224600 |  224600 |  242700 | 1080 |\n",
       "\n"
      ],
      "text/plain": [
       "  CD_ID YEAR       CROP_TYPE GEO          SEEDED_AREA HARVESTED_AREA PRODUCTION\n",
       "1 0     1965-12-31 Barley    Alberta      1372000     1372000        2504000   \n",
       "2 1     1965-12-31 Barley    Canada       2476800     2476800        4752900   \n",
       "3 2     1965-12-31 Barley    Saskatchewan  708000      708000        1415000   \n",
       "4 3     1965-12-31 Canola    Alberta       297400      297400         215500   \n",
       "5 4     1965-12-31 Canola    Canada        580700      580700         512600   \n",
       "6 5     1965-12-31 Canola    Saskatchewan  224600      224600         242700   \n",
       "  AVG_YIELD\n",
       "1 1825     \n",
       "2 1920     \n",
       "3 2000     \n",
       "4  725     \n",
       "5  885     \n",
       "6 1080     "
      ]
     },
     "metadata": {},
     "output_type": "display_data"
    },
    {
     "data": {
      "text/html": [
       "<table>\n",
       "<caption>A data.frame: 6 × 5</caption>\n",
       "<thead>\n",
       "\t<tr><th></th><th scope=col>CD_ID</th><th scope=col>DATE</th><th scope=col>CROP_TYPE</th><th scope=col>GEO</th><th scope=col>PRICE_PRERMT</th></tr>\n",
       "\t<tr><th></th><th scope=col>&lt;int&gt;</th><th scope=col>&lt;fct&gt;</th><th scope=col>&lt;fct&gt;</th><th scope=col>&lt;fct&gt;</th><th scope=col>&lt;dbl&gt;</th></tr>\n",
       "</thead>\n",
       "<tbody>\n",
       "\t<tr><th scope=row>1</th><td>0</td><td>1985-01-01</td><td>Barley</td><td>Alberta     </td><td>127.39</td></tr>\n",
       "\t<tr><th scope=row>2</th><td>1</td><td>1985-01-01</td><td>Barley</td><td>Saskatchewan</td><td>121.38</td></tr>\n",
       "\t<tr><th scope=row>3</th><td>2</td><td>1985-01-01</td><td>Canola</td><td>Alberta     </td><td>342.00</td></tr>\n",
       "\t<tr><th scope=row>4</th><td>3</td><td>1985-01-01</td><td>Canola</td><td>Saskatchewan</td><td>339.82</td></tr>\n",
       "\t<tr><th scope=row>5</th><td>4</td><td>1985-01-01</td><td>Rye   </td><td>Alberta     </td><td>100.77</td></tr>\n",
       "\t<tr><th scope=row>6</th><td>5</td><td>1985-01-01</td><td>Rye   </td><td>Saskatchewan</td><td>109.75</td></tr>\n",
       "</tbody>\n",
       "</table>\n"
      ],
      "text/latex": [
       "A data.frame: 6 × 5\n",
       "\\begin{tabular}{r|lllll}\n",
       "  & CD\\_ID & DATE & CROP\\_TYPE & GEO & PRICE\\_PRERMT\\\\\n",
       "  & <int> & <fct> & <fct> & <fct> & <dbl>\\\\\n",
       "\\hline\n",
       "\t1 & 0 & 1985-01-01 & Barley & Alberta      & 127.39\\\\\n",
       "\t2 & 1 & 1985-01-01 & Barley & Saskatchewan & 121.38\\\\\n",
       "\t3 & 2 & 1985-01-01 & Canola & Alberta      & 342.00\\\\\n",
       "\t4 & 3 & 1985-01-01 & Canola & Saskatchewan & 339.82\\\\\n",
       "\t5 & 4 & 1985-01-01 & Rye    & Alberta      & 100.77\\\\\n",
       "\t6 & 5 & 1985-01-01 & Rye    & Saskatchewan & 109.75\\\\\n",
       "\\end{tabular}\n"
      ],
      "text/markdown": [
       "\n",
       "A data.frame: 6 × 5\n",
       "\n",
       "| <!--/--> | CD_ID &lt;int&gt; | DATE &lt;fct&gt; | CROP_TYPE &lt;fct&gt; | GEO &lt;fct&gt; | PRICE_PRERMT &lt;dbl&gt; |\n",
       "|---|---|---|---|---|---|\n",
       "| 1 | 0 | 1985-01-01 | Barley | Alberta      | 127.39 |\n",
       "| 2 | 1 | 1985-01-01 | Barley | Saskatchewan | 121.38 |\n",
       "| 3 | 2 | 1985-01-01 | Canola | Alberta      | 342.00 |\n",
       "| 4 | 3 | 1985-01-01 | Canola | Saskatchewan | 339.82 |\n",
       "| 5 | 4 | 1985-01-01 | Rye    | Alberta      | 100.77 |\n",
       "| 6 | 5 | 1985-01-01 | Rye    | Saskatchewan | 109.75 |\n",
       "\n"
      ],
      "text/plain": [
       "  CD_ID DATE       CROP_TYPE GEO          PRICE_PRERMT\n",
       "1 0     1985-01-01 Barley    Alberta      127.39      \n",
       "2 1     1985-01-01 Barley    Saskatchewan 121.38      \n",
       "3 2     1985-01-01 Canola    Alberta      342.00      \n",
       "4 3     1985-01-01 Canola    Saskatchewan 339.82      \n",
       "5 4     1985-01-01 Rye       Alberta      100.77      \n",
       "6 5     1985-01-01 Rye       Saskatchewan 109.75      "
      ]
     },
     "metadata": {},
     "output_type": "display_data"
    }
   ],
   "source": [
    "ANNUAL_CROP_df<-read.csv('https://cf-courses-data.s3.us.cloud-object-storage.appdomain.cloud/IBM-RP0203EN-SkillsNetwork/labs/Final%20Project/Annual_Crop_Data.csv')\n",
    "FARM_PRODUCT_PRICE_df<-read.csv('https://cf-courses-data.s3.us.cloud-object-storage.appdomain.cloud/IBM-RP0203EN-SkillsNetwork/labs/Final%20Project/Monthly_Farm_Prices.csv')\n",
    "head(ANNUAL_CROP_df)\n",
    "head(FARM_PRODUCT_PRICE_df)\n",
    "\n",
    "\n"
   ]
  },
  {
   "cell_type": "code",
   "execution_count": 75,
   "metadata": {
    "tags": []
   },
   "outputs": [
    {
     "data": {
      "text/html": [
       "<table>\n",
       "<caption>A data.frame: 6 × 3</caption>\n",
       "<thead>\n",
       "\t<tr><th></th><th scope=col>DFX_ID</th><th scope=col>DATE</th><th scope=col>FXUSDCAD</th></tr>\n",
       "\t<tr><th></th><th scope=col>&lt;int&gt;</th><th scope=col>&lt;fct&gt;</th><th scope=col>&lt;dbl&gt;</th></tr>\n",
       "</thead>\n",
       "<tbody>\n",
       "\t<tr><th scope=row>1</th><td>0</td><td>2017-01-03</td><td>1.3435</td></tr>\n",
       "\t<tr><th scope=row>2</th><td>1</td><td>2017-01-04</td><td>1.3315</td></tr>\n",
       "\t<tr><th scope=row>3</th><td>2</td><td>2017-01-05</td><td>1.3244</td></tr>\n",
       "\t<tr><th scope=row>4</th><td>3</td><td>2017-01-06</td><td>1.3214</td></tr>\n",
       "\t<tr><th scope=row>5</th><td>4</td><td>2017-01-09</td><td>1.3240</td></tr>\n",
       "\t<tr><th scope=row>6</th><td>5</td><td>2017-01-10</td><td>1.3213</td></tr>\n",
       "</tbody>\n",
       "</table>\n"
      ],
      "text/latex": [
       "A data.frame: 6 × 3\n",
       "\\begin{tabular}{r|lll}\n",
       "  & DFX\\_ID & DATE & FXUSDCAD\\\\\n",
       "  & <int> & <fct> & <dbl>\\\\\n",
       "\\hline\n",
       "\t1 & 0 & 2017-01-03 & 1.3435\\\\\n",
       "\t2 & 1 & 2017-01-04 & 1.3315\\\\\n",
       "\t3 & 2 & 2017-01-05 & 1.3244\\\\\n",
       "\t4 & 3 & 2017-01-06 & 1.3214\\\\\n",
       "\t5 & 4 & 2017-01-09 & 1.3240\\\\\n",
       "\t6 & 5 & 2017-01-10 & 1.3213\\\\\n",
       "\\end{tabular}\n"
      ],
      "text/markdown": [
       "\n",
       "A data.frame: 6 × 3\n",
       "\n",
       "| <!--/--> | DFX_ID &lt;int&gt; | DATE &lt;fct&gt; | FXUSDCAD &lt;dbl&gt; |\n",
       "|---|---|---|---|\n",
       "| 1 | 0 | 2017-01-03 | 1.3435 |\n",
       "| 2 | 1 | 2017-01-04 | 1.3315 |\n",
       "| 3 | 2 | 2017-01-05 | 1.3244 |\n",
       "| 4 | 3 | 2017-01-06 | 1.3214 |\n",
       "| 5 | 4 | 2017-01-09 | 1.3240 |\n",
       "| 6 | 5 | 2017-01-10 | 1.3213 |\n",
       "\n"
      ],
      "text/plain": [
       "  DFX_ID DATE       FXUSDCAD\n",
       "1 0      2017-01-03 1.3435  \n",
       "2 1      2017-01-04 1.3315  \n",
       "3 2      2017-01-05 1.3244  \n",
       "4 3      2017-01-06 1.3214  \n",
       "5 4      2017-01-09 1.3240  \n",
       "6 5      2017-01-10 1.3213  "
      ]
     },
     "metadata": {},
     "output_type": "display_data"
    }
   ],
   "source": [
    "DAILY_FX_DF<- read.csv('https://cf-courses-data.s3.us.cloud-object-storage.appdomain.cloud/IBM-RP0203EN-SkillsNetwork/labs/Final%20Project/Daily_FX.csv')\n",
    "head(DAILY_FX_DF)"
   ]
  },
  {
   "cell_type": "markdown",
   "metadata": {},
   "source": [
    "## Now execute SQL queries using the RSQLite R package to solve the assignment problems.\n",
    "\n",
    "## Problem 3\n",
    "\n",
    "#### How many records are in the farm prices dataset?\n"
   ]
  },
  {
   "cell_type": "code",
   "execution_count": 76,
   "metadata": {
    "tags": []
   },
   "outputs": [
    {
     "data": {
      "text/html": [
       "<table>\n",
       "<caption>A data.frame: 6 × 3</caption>\n",
       "<thead>\n",
       "\t<tr><th></th><th scope=col>DFX_ID</th><th scope=col>DATE</th><th scope=col>FXUSDCAD</th></tr>\n",
       "\t<tr><th></th><th scope=col>&lt;int&gt;</th><th scope=col>&lt;fct&gt;</th><th scope=col>&lt;dbl&gt;</th></tr>\n",
       "</thead>\n",
       "<tbody>\n",
       "\t<tr><th scope=row>1</th><td>0</td><td>2017-01-01</td><td>1.319276</td></tr>\n",
       "\t<tr><th scope=row>2</th><td>1</td><td>2017-02-01</td><td>1.310726</td></tr>\n",
       "\t<tr><th scope=row>3</th><td>2</td><td>2017-03-01</td><td>1.338643</td></tr>\n",
       "\t<tr><th scope=row>4</th><td>3</td><td>2017-04-01</td><td>1.344021</td></tr>\n",
       "\t<tr><th scope=row>5</th><td>4</td><td>2017-05-01</td><td>1.360705</td></tr>\n",
       "\t<tr><th scope=row>6</th><td>5</td><td>2017-06-01</td><td>1.329805</td></tr>\n",
       "</tbody>\n",
       "</table>\n"
      ],
      "text/latex": [
       "A data.frame: 6 × 3\n",
       "\\begin{tabular}{r|lll}\n",
       "  & DFX\\_ID & DATE & FXUSDCAD\\\\\n",
       "  & <int> & <fct> & <dbl>\\\\\n",
       "\\hline\n",
       "\t1 & 0 & 2017-01-01 & 1.319276\\\\\n",
       "\t2 & 1 & 2017-02-01 & 1.310726\\\\\n",
       "\t3 & 2 & 2017-03-01 & 1.338643\\\\\n",
       "\t4 & 3 & 2017-04-01 & 1.344021\\\\\n",
       "\t5 & 4 & 2017-05-01 & 1.360705\\\\\n",
       "\t6 & 5 & 2017-06-01 & 1.329805\\\\\n",
       "\\end{tabular}\n"
      ],
      "text/markdown": [
       "\n",
       "A data.frame: 6 × 3\n",
       "\n",
       "| <!--/--> | DFX_ID &lt;int&gt; | DATE &lt;fct&gt; | FXUSDCAD &lt;dbl&gt; |\n",
       "|---|---|---|---|\n",
       "| 1 | 0 | 2017-01-01 | 1.319276 |\n",
       "| 2 | 1 | 2017-02-01 | 1.310726 |\n",
       "| 3 | 2 | 2017-03-01 | 1.338643 |\n",
       "| 4 | 3 | 2017-04-01 | 1.344021 |\n",
       "| 5 | 4 | 2017-05-01 | 1.360705 |\n",
       "| 6 | 5 | 2017-06-01 | 1.329805 |\n",
       "\n"
      ],
      "text/plain": [
       "  DFX_ID DATE       FXUSDCAD\n",
       "1 0      2017-01-01 1.319276\n",
       "2 1      2017-02-01 1.310726\n",
       "3 2      2017-03-01 1.338643\n",
       "4 3      2017-04-01 1.344021\n",
       "5 4      2017-05-01 1.360705\n",
       "6 5      2017-06-01 1.329805"
      ]
     },
     "metadata": {},
     "output_type": "display_data"
    }
   ],
   "source": [
    "MONTHLY_FX_df<-read.csv('https://cf-courses-data.s3.us.cloud-object-storage.appdomain.cloud/IBM-RP0203EN-SkillsNetwork/labs/Final%20Project/Monthly_FX.csv')\n",
    "head(MONTHLY_FX_df)"
   ]
  },
  {
   "cell_type": "code",
   "execution_count": 24,
   "metadata": {},
   "outputs": [
    {
     "data": {
      "text/html": [
       "<table>\n",
       "<caption>A data.frame: 1 × 1</caption>\n",
       "<thead>\n",
       "\t<tr><th scope=col>count(CD_ID)</th></tr>\n",
       "\t<tr><th scope=col>&lt;int&gt;</th></tr>\n",
       "</thead>\n",
       "<tbody>\n",
       "\t<tr><td>672</td></tr>\n",
       "</tbody>\n",
       "</table>\n"
      ],
      "text/latex": [
       "A data.frame: 1 × 1\n",
       "\\begin{tabular}{l}\n",
       " count(CD\\_ID)\\\\\n",
       " <int>\\\\\n",
       "\\hline\n",
       "\t 672\\\\\n",
       "\\end{tabular}\n"
      ],
      "text/markdown": [
       "\n",
       "A data.frame: 1 × 1\n",
       "\n",
       "| count(CD_ID) &lt;int&gt; |\n",
       "|---|\n",
       "| 672 |\n",
       "\n"
      ],
      "text/plain": [
       "  count(CD_ID)\n",
       "1 672         "
      ]
     },
     "metadata": {},
     "output_type": "display_data"
    }
   ],
   "source": [
    "dbGetQuery(conn,'select count(CD_ID) FROM ANNUAL_CROP_DATA')\n"
   ]
  },
  {
   "cell_type": "markdown",
   "metadata": {},
   "source": [
    "## Problem 4\n",
    "\n",
    "#### Which geographies are included in the farm prices dataset?\n"
   ]
  },
  {
   "cell_type": "code",
   "execution_count": 25,
   "metadata": {},
   "outputs": [
    {
     "data": {
      "text/html": [
       "<table>\n",
       "<caption>A data.frame: 2 × 1</caption>\n",
       "<thead>\n",
       "\t<tr><th scope=col>GEO</th></tr>\n",
       "\t<tr><th scope=col>&lt;chr&gt;</th></tr>\n",
       "</thead>\n",
       "<tbody>\n",
       "\t<tr><td>Alberta     </td></tr>\n",
       "\t<tr><td>Saskatchewan</td></tr>\n",
       "</tbody>\n",
       "</table>\n"
      ],
      "text/latex": [
       "A data.frame: 2 × 1\n",
       "\\begin{tabular}{l}\n",
       " GEO\\\\\n",
       " <chr>\\\\\n",
       "\\hline\n",
       "\t Alberta     \\\\\n",
       "\t Saskatchewan\\\\\n",
       "\\end{tabular}\n"
      ],
      "text/markdown": [
       "\n",
       "A data.frame: 2 × 1\n",
       "\n",
       "| GEO &lt;chr&gt; |\n",
       "|---|\n",
       "| Alberta      |\n",
       "| Saskatchewan |\n",
       "\n"
      ],
      "text/plain": [
       "  GEO         \n",
       "1 Alberta     \n",
       "2 Saskatchewan"
      ]
     },
     "metadata": {},
     "output_type": "display_data"
    }
   ],
   "source": [
    "dbGetQuery(conn,'select DISTINCT(GEO) FROM FARM_PRODUCT_PRICE')\n"
   ]
  },
  {
   "cell_type": "markdown",
   "metadata": {},
   "source": [
    "\n"
   ]
  },
  {
   "cell_type": "code",
   "execution_count": 80,
   "metadata": {},
   "outputs": [
    {
     "data": {
      "text/html": [
       "<table>\n",
       "<caption>A data.frame: 1 × 1</caption>\n",
       "<thead>\n",
       "\t<tr><th scope=col>TOTAL_RYE_HARVESTED_HECTARES</th></tr>\n",
       "\t<tr><th scope=col>&lt;int&gt;</th></tr>\n",
       "</thead>\n",
       "<tbody>\n",
       "\t<tr><td>274100</td></tr>\n",
       "</tbody>\n",
       "</table>\n"
      ],
      "text/latex": [
       "A data.frame: 1 × 1\n",
       "\\begin{tabular}{l}\n",
       " TOTAL\\_RYE\\_HARVESTED\\_HECTARES\\\\\n",
       " <int>\\\\\n",
       "\\hline\n",
       "\t 274100\\\\\n",
       "\\end{tabular}\n"
      ],
      "text/markdown": [
       "\n",
       "A data.frame: 1 × 1\n",
       "\n",
       "| TOTAL_RYE_HARVESTED_HECTARES &lt;int&gt; |\n",
       "|---|\n",
       "| 274100 |\n",
       "\n"
      ],
      "text/plain": [
       "  TOTAL_RYE_HARVESTED_HECTARES\n",
       "1 274100                      "
      ]
     },
     "metadata": {},
     "output_type": "display_data"
    }
   ],
   "source": [
    "dbGetQuery(conn,\"SELECT SUM(HARVESTED_AREA) AS TOTAL_RYE_HARVESTED_HECTARES\n",
    "FROM ANNUAL_CROP_DATA\n",
    "WHERE GEO = 'Canada' AND CROP_TYPE = 'Rye' AND YEAR = '1968-12-31'\")"
   ]
  },
  {
   "cell_type": "markdown",
   "metadata": {},
   "source": [
    "## Problem 6\n",
    "\n",
    "#### Query and display the first 6 rows of the farm prices table for Rye.\n"
   ]
  },
  {
   "cell_type": "code",
   "execution_count": 26,
   "metadata": {},
   "outputs": [
    {
     "data": {
      "text/html": [
       "<table>\n",
       "<caption>A data.frame: 6 × 8</caption>\n",
       "<thead>\n",
       "\t<tr><th scope=col>CD_ID</th><th scope=col>YEAR</th><th scope=col>CROP_TYPE</th><th scope=col>GEO</th><th scope=col>SEEDED_AREA</th><th scope=col>HARVESTED_AREA</th><th scope=col>PRODUCTION</th><th scope=col>AVG_YIELD</th></tr>\n",
       "\t<tr><th scope=col>&lt;int&gt;</th><th scope=col>&lt;chr&gt;</th><th scope=col>&lt;chr&gt;</th><th scope=col>&lt;chr&gt;</th><th scope=col>&lt;int&gt;</th><th scope=col>&lt;int&gt;</th><th scope=col>&lt;int&gt;</th><th scope=col>&lt;int&gt;</th></tr>\n",
       "</thead>\n",
       "<tbody>\n",
       "\t<tr><td> 6</td><td>1965-12-31</td><td>Rye</td><td>Alberta     </td><td> 81000</td><td> 81000</td><td>116400</td><td>1435</td></tr>\n",
       "\t<tr><td> 7</td><td>1965-12-31</td><td>Rye</td><td>Canada      </td><td>323900</td><td>323900</td><td>453400</td><td>1400</td></tr>\n",
       "\t<tr><td> 8</td><td>1965-12-31</td><td>Rye</td><td>Saskatchewan</td><td>166000</td><td>166000</td><td>224000</td><td>1350</td></tr>\n",
       "\t<tr><td>18</td><td>1966-12-31</td><td>Rye</td><td>Alberta     </td><td> 70000</td><td> 70000</td><td>109000</td><td>1555</td></tr>\n",
       "\t<tr><td>19</td><td>1966-12-31</td><td>Rye</td><td>Canada      </td><td>293400</td><td>293400</td><td>437600</td><td>1490</td></tr>\n",
       "\t<tr><td>20</td><td>1966-12-31</td><td>Rye</td><td>Saskatchewan</td><td>161000</td><td>161000</td><td>228600</td><td>1420</td></tr>\n",
       "</tbody>\n",
       "</table>\n"
      ],
      "text/latex": [
       "A data.frame: 6 × 8\n",
       "\\begin{tabular}{llllllll}\n",
       " CD\\_ID & YEAR & CROP\\_TYPE & GEO & SEEDED\\_AREA & HARVESTED\\_AREA & PRODUCTION & AVG\\_YIELD\\\\\n",
       " <int> & <chr> & <chr> & <chr> & <int> & <int> & <int> & <int>\\\\\n",
       "\\hline\n",
       "\t  6 & 1965-12-31 & Rye & Alberta      &  81000 &  81000 & 116400 & 1435\\\\\n",
       "\t  7 & 1965-12-31 & Rye & Canada       & 323900 & 323900 & 453400 & 1400\\\\\n",
       "\t  8 & 1965-12-31 & Rye & Saskatchewan & 166000 & 166000 & 224000 & 1350\\\\\n",
       "\t 18 & 1966-12-31 & Rye & Alberta      &  70000 &  70000 & 109000 & 1555\\\\\n",
       "\t 19 & 1966-12-31 & Rye & Canada       & 293400 & 293400 & 437600 & 1490\\\\\n",
       "\t 20 & 1966-12-31 & Rye & Saskatchewan & 161000 & 161000 & 228600 & 1420\\\\\n",
       "\\end{tabular}\n"
      ],
      "text/markdown": [
       "\n",
       "A data.frame: 6 × 8\n",
       "\n",
       "| CD_ID &lt;int&gt; | YEAR &lt;chr&gt; | CROP_TYPE &lt;chr&gt; | GEO &lt;chr&gt; | SEEDED_AREA &lt;int&gt; | HARVESTED_AREA &lt;int&gt; | PRODUCTION &lt;int&gt; | AVG_YIELD &lt;int&gt; |\n",
       "|---|---|---|---|---|---|---|---|\n",
       "|  6 | 1965-12-31 | Rye | Alberta      |  81000 |  81000 | 116400 | 1435 |\n",
       "|  7 | 1965-12-31 | Rye | Canada       | 323900 | 323900 | 453400 | 1400 |\n",
       "|  8 | 1965-12-31 | Rye | Saskatchewan | 166000 | 166000 | 224000 | 1350 |\n",
       "| 18 | 1966-12-31 | Rye | Alberta      |  70000 |  70000 | 109000 | 1555 |\n",
       "| 19 | 1966-12-31 | Rye | Canada       | 293400 | 293400 | 437600 | 1490 |\n",
       "| 20 | 1966-12-31 | Rye | Saskatchewan | 161000 | 161000 | 228600 | 1420 |\n",
       "\n"
      ],
      "text/plain": [
       "  CD_ID YEAR       CROP_TYPE GEO          SEEDED_AREA HARVESTED_AREA PRODUCTION\n",
       "1  6    1965-12-31 Rye       Alberta       81000       81000         116400    \n",
       "2  7    1965-12-31 Rye       Canada       323900      323900         453400    \n",
       "3  8    1965-12-31 Rye       Saskatchewan 166000      166000         224000    \n",
       "4 18    1966-12-31 Rye       Alberta       70000       70000         109000    \n",
       "5 19    1966-12-31 Rye       Canada       293400      293400         437600    \n",
       "6 20    1966-12-31 Rye       Saskatchewan 161000      161000         228600    \n",
       "  AVG_YIELD\n",
       "1 1435     \n",
       "2 1400     \n",
       "3 1350     \n",
       "4 1555     \n",
       "5 1490     \n",
       "6 1420     "
      ]
     },
     "metadata": {},
     "output_type": "display_data"
    }
   ],
   "source": [
    "dbGetQuery(conn,\"select * from  ANNUAL_CROP_DATA Where CROP_TYPE='Rye' LIMIT 6 \" )\n"
   ]
  },
  {
   "cell_type": "markdown",
   "metadata": {},
   "source": [
    "## Problem 7\n",
    "\n",
    "#### Which provinces grew Barley?\n"
   ]
  },
  {
   "cell_type": "code",
   "execution_count": 77,
   "metadata": {},
   "outputs": [
    {
     "data": {
      "text/html": [
       "<table>\n",
       "<caption>A data.frame: 3 × 1</caption>\n",
       "<thead>\n",
       "\t<tr><th scope=col>GEO</th></tr>\n",
       "\t<tr><th scope=col>&lt;chr&gt;</th></tr>\n",
       "</thead>\n",
       "<tbody>\n",
       "\t<tr><td>Alberta     </td></tr>\n",
       "\t<tr><td>Canada      </td></tr>\n",
       "\t<tr><td>Saskatchewan</td></tr>\n",
       "</tbody>\n",
       "</table>\n"
      ],
      "text/latex": [
       "A data.frame: 3 × 1\n",
       "\\begin{tabular}{l}\n",
       " GEO\\\\\n",
       " <chr>\\\\\n",
       "\\hline\n",
       "\t Alberta     \\\\\n",
       "\t Canada      \\\\\n",
       "\t Saskatchewan\\\\\n",
       "\\end{tabular}\n"
      ],
      "text/markdown": [
       "\n",
       "A data.frame: 3 × 1\n",
       "\n",
       "| GEO &lt;chr&gt; |\n",
       "|---|\n",
       "| Alberta      |\n",
       "| Canada       |\n",
       "| Saskatchewan |\n",
       "\n"
      ],
      "text/plain": [
       "  GEO         \n",
       "1 Alberta     \n",
       "2 Canada      \n",
       "3 Saskatchewan"
      ]
     },
     "metadata": {},
     "output_type": "display_data"
    }
   ],
   "source": [
    "dbGetQuery(conn,\"SELECT DISTINCT(GEO) FROM ANNUAL_CROP_DATA WHERE CROP_TYPE='Barley'\")"
   ]
  },
  {
   "cell_type": "markdown",
   "metadata": {},
   "source": [
    "## Problem 8\n",
    "\n",
    "#### Find the first and last dates for the farm prices data.\n"
   ]
  },
  {
   "cell_type": "code",
   "execution_count": 28,
   "metadata": {},
   "outputs": [
    {
     "data": {
      "text/html": [
       "<table>\n",
       "<caption>A data.frame: 1 × 2</caption>\n",
       "<thead>\n",
       "\t<tr><th scope=col>FIRST_DATE</th><th scope=col>LAST_DATE</th></tr>\n",
       "\t<tr><th scope=col>&lt;chr&gt;</th><th scope=col>&lt;chr&gt;</th></tr>\n",
       "</thead>\n",
       "<tbody>\n",
       "\t<tr><td>1985-01-01</td><td>2020-12-01</td></tr>\n",
       "</tbody>\n",
       "</table>\n"
      ],
      "text/latex": [
       "A data.frame: 1 × 2\n",
       "\\begin{tabular}{ll}\n",
       " FIRST\\_DATE & LAST\\_DATE\\\\\n",
       " <chr> & <chr>\\\\\n",
       "\\hline\n",
       "\t 1985-01-01 & 2020-12-01\\\\\n",
       "\\end{tabular}\n"
      ],
      "text/markdown": [
       "\n",
       "A data.frame: 1 × 2\n",
       "\n",
       "| FIRST_DATE &lt;chr&gt; | LAST_DATE &lt;chr&gt; |\n",
       "|---|---|\n",
       "| 1985-01-01 | 2020-12-01 |\n",
       "\n"
      ],
      "text/plain": [
       "  FIRST_DATE LAST_DATE \n",
       "1 1985-01-01 2020-12-01"
      ]
     },
     "metadata": {},
     "output_type": "display_data"
    }
   ],
   "source": [
    "dbGetQuery(conn, 'SELECT min(DATE) FIRST_DATE, max(DATE) LAST_DATE FROM FARM_PRODUCT_PRICE')"
   ]
  },
  {
   "cell_type": "markdown",
   "metadata": {},
   "source": [
    "## Problem 9\n",
    "\n",
    "#### Which crops have ever reached a farm price greater than or equal to $350 per metric tonne?\n"
   ]
  },
  {
   "cell_type": "code",
   "execution_count": 38,
   "metadata": {},
   "outputs": [
    {
     "data": {
      "text/html": [
       "<table>\n",
       "<caption>A data.frame: 469 × 1</caption>\n",
       "<thead>\n",
       "\t<tr><th scope=col>CROP_TYPE</th></tr>\n",
       "\t<tr><th scope=col>&lt;chr&gt;</th></tr>\n",
       "</thead>\n",
       "<tbody>\n",
       "\t<tr><td>Canola</td></tr>\n",
       "\t<tr><td>Canola</td></tr>\n",
       "\t<tr><td>Canola</td></tr>\n",
       "\t<tr><td>Canola</td></tr>\n",
       "\t<tr><td>Canola</td></tr>\n",
       "\t<tr><td>Canola</td></tr>\n",
       "\t<tr><td>Canola</td></tr>\n",
       "\t<tr><td>Canola</td></tr>\n",
       "\t<tr><td>Canola</td></tr>\n",
       "\t<tr><td>Canola</td></tr>\n",
       "\t<tr><td>Canola</td></tr>\n",
       "\t<tr><td>Canola</td></tr>\n",
       "\t<tr><td>Canola</td></tr>\n",
       "\t<tr><td>Canola</td></tr>\n",
       "\t<tr><td>Canola</td></tr>\n",
       "\t<tr><td>Canola</td></tr>\n",
       "\t<tr><td>Canola</td></tr>\n",
       "\t<tr><td>Canola</td></tr>\n",
       "\t<tr><td>Canola</td></tr>\n",
       "\t<tr><td>Canola</td></tr>\n",
       "\t<tr><td>Canola</td></tr>\n",
       "\t<tr><td>Canola</td></tr>\n",
       "\t<tr><td>Canola</td></tr>\n",
       "\t<tr><td>Canola</td></tr>\n",
       "\t<tr><td>Canola</td></tr>\n",
       "\t<tr><td>Canola</td></tr>\n",
       "\t<tr><td>Canola</td></tr>\n",
       "\t<tr><td>Canola</td></tr>\n",
       "\t<tr><td>Canola</td></tr>\n",
       "\t<tr><td>Canola</td></tr>\n",
       "\t<tr><td>⋮</td></tr>\n",
       "\t<tr><td>Canola</td></tr>\n",
       "\t<tr><td>Canola</td></tr>\n",
       "\t<tr><td>Canola</td></tr>\n",
       "\t<tr><td>Canola</td></tr>\n",
       "\t<tr><td>Canola</td></tr>\n",
       "\t<tr><td>Canola</td></tr>\n",
       "\t<tr><td>Canola</td></tr>\n",
       "\t<tr><td>Canola</td></tr>\n",
       "\t<tr><td>Canola</td></tr>\n",
       "\t<tr><td>Canola</td></tr>\n",
       "\t<tr><td>Canola</td></tr>\n",
       "\t<tr><td>Canola</td></tr>\n",
       "\t<tr><td>Canola</td></tr>\n",
       "\t<tr><td>Canola</td></tr>\n",
       "\t<tr><td>Canola</td></tr>\n",
       "\t<tr><td>Canola</td></tr>\n",
       "\t<tr><td>Canola</td></tr>\n",
       "\t<tr><td>Canola</td></tr>\n",
       "\t<tr><td>Canola</td></tr>\n",
       "\t<tr><td>Canola</td></tr>\n",
       "\t<tr><td>Canola</td></tr>\n",
       "\t<tr><td>Canola</td></tr>\n",
       "\t<tr><td>Canola</td></tr>\n",
       "\t<tr><td>Canola</td></tr>\n",
       "\t<tr><td>Canola</td></tr>\n",
       "\t<tr><td>Canola</td></tr>\n",
       "\t<tr><td>Canola</td></tr>\n",
       "\t<tr><td>Canola</td></tr>\n",
       "\t<tr><td>Canola</td></tr>\n",
       "\t<tr><td>Canola</td></tr>\n",
       "</tbody>\n",
       "</table>\n"
      ],
      "text/latex": [
       "A data.frame: 469 × 1\n",
       "\\begin{tabular}{l}\n",
       " CROP\\_TYPE\\\\\n",
       " <chr>\\\\\n",
       "\\hline\n",
       "\t Canola\\\\\n",
       "\t Canola\\\\\n",
       "\t Canola\\\\\n",
       "\t Canola\\\\\n",
       "\t Canola\\\\\n",
       "\t Canola\\\\\n",
       "\t Canola\\\\\n",
       "\t Canola\\\\\n",
       "\t Canola\\\\\n",
       "\t Canola\\\\\n",
       "\t Canola\\\\\n",
       "\t Canola\\\\\n",
       "\t Canola\\\\\n",
       "\t Canola\\\\\n",
       "\t Canola\\\\\n",
       "\t Canola\\\\\n",
       "\t Canola\\\\\n",
       "\t Canola\\\\\n",
       "\t Canola\\\\\n",
       "\t Canola\\\\\n",
       "\t Canola\\\\\n",
       "\t Canola\\\\\n",
       "\t Canola\\\\\n",
       "\t Canola\\\\\n",
       "\t Canola\\\\\n",
       "\t Canola\\\\\n",
       "\t Canola\\\\\n",
       "\t Canola\\\\\n",
       "\t Canola\\\\\n",
       "\t Canola\\\\\n",
       "\t ⋮\\\\\n",
       "\t Canola\\\\\n",
       "\t Canola\\\\\n",
       "\t Canola\\\\\n",
       "\t Canola\\\\\n",
       "\t Canola\\\\\n",
       "\t Canola\\\\\n",
       "\t Canola\\\\\n",
       "\t Canola\\\\\n",
       "\t Canola\\\\\n",
       "\t Canola\\\\\n",
       "\t Canola\\\\\n",
       "\t Canola\\\\\n",
       "\t Canola\\\\\n",
       "\t Canola\\\\\n",
       "\t Canola\\\\\n",
       "\t Canola\\\\\n",
       "\t Canola\\\\\n",
       "\t Canola\\\\\n",
       "\t Canola\\\\\n",
       "\t Canola\\\\\n",
       "\t Canola\\\\\n",
       "\t Canola\\\\\n",
       "\t Canola\\\\\n",
       "\t Canola\\\\\n",
       "\t Canola\\\\\n",
       "\t Canola\\\\\n",
       "\t Canola\\\\\n",
       "\t Canola\\\\\n",
       "\t Canola\\\\\n",
       "\t Canola\\\\\n",
       "\\end{tabular}\n"
      ],
      "text/markdown": [
       "\n",
       "A data.frame: 469 × 1\n",
       "\n",
       "| CROP_TYPE &lt;chr&gt; |\n",
       "|---|\n",
       "| Canola |\n",
       "| Canola |\n",
       "| Canola |\n",
       "| Canola |\n",
       "| Canola |\n",
       "| Canola |\n",
       "| Canola |\n",
       "| Canola |\n",
       "| Canola |\n",
       "| Canola |\n",
       "| Canola |\n",
       "| Canola |\n",
       "| Canola |\n",
       "| Canola |\n",
       "| Canola |\n",
       "| Canola |\n",
       "| Canola |\n",
       "| Canola |\n",
       "| Canola |\n",
       "| Canola |\n",
       "| Canola |\n",
       "| Canola |\n",
       "| Canola |\n",
       "| Canola |\n",
       "| Canola |\n",
       "| Canola |\n",
       "| Canola |\n",
       "| Canola |\n",
       "| Canola |\n",
       "| Canola |\n",
       "| ⋮ |\n",
       "| Canola |\n",
       "| Canola |\n",
       "| Canola |\n",
       "| Canola |\n",
       "| Canola |\n",
       "| Canola |\n",
       "| Canola |\n",
       "| Canola |\n",
       "| Canola |\n",
       "| Canola |\n",
       "| Canola |\n",
       "| Canola |\n",
       "| Canola |\n",
       "| Canola |\n",
       "| Canola |\n",
       "| Canola |\n",
       "| Canola |\n",
       "| Canola |\n",
       "| Canola |\n",
       "| Canola |\n",
       "| Canola |\n",
       "| Canola |\n",
       "| Canola |\n",
       "| Canola |\n",
       "| Canola |\n",
       "| Canola |\n",
       "| Canola |\n",
       "| Canola |\n",
       "| Canola |\n",
       "| Canola |\n",
       "\n"
      ],
      "text/plain": [
       "    CROP_TYPE\n",
       "1   Canola   \n",
       "2   Canola   \n",
       "3   Canola   \n",
       "4   Canola   \n",
       "5   Canola   \n",
       "6   Canola   \n",
       "7   Canola   \n",
       "8   Canola   \n",
       "9   Canola   \n",
       "10  Canola   \n",
       "11  Canola   \n",
       "12  Canola   \n",
       "13  Canola   \n",
       "14  Canola   \n",
       "15  Canola   \n",
       "16  Canola   \n",
       "17  Canola   \n",
       "18  Canola   \n",
       "19  Canola   \n",
       "20  Canola   \n",
       "21  Canola   \n",
       "22  Canola   \n",
       "23  Canola   \n",
       "24  Canola   \n",
       "25  Canola   \n",
       "26  Canola   \n",
       "27  Canola   \n",
       "28  Canola   \n",
       "29  Canola   \n",
       "30  Canola   \n",
       "⋮   ⋮        \n",
       "440 Canola   \n",
       "441 Canola   \n",
       "442 Canola   \n",
       "443 Canola   \n",
       "444 Canola   \n",
       "445 Canola   \n",
       "446 Canola   \n",
       "447 Canola   \n",
       "448 Canola   \n",
       "449 Canola   \n",
       "450 Canola   \n",
       "451 Canola   \n",
       "452 Canola   \n",
       "453 Canola   \n",
       "454 Canola   \n",
       "455 Canola   \n",
       "456 Canola   \n",
       "457 Canola   \n",
       "458 Canola   \n",
       "459 Canola   \n",
       "460 Canola   \n",
       "461 Canola   \n",
       "462 Canola   \n",
       "463 Canola   \n",
       "464 Canola   \n",
       "465 Canola   \n",
       "466 Canola   \n",
       "467 Canola   \n",
       "468 Canola   \n",
       "469 Canola   "
      ]
     },
     "metadata": {},
     "output_type": "display_data"
    }
   ],
   "source": [
    "dbGetQuery(conn,\"SELECT  CROP_TYPE\n",
    "FROM  FARM_PRODUCT_PRICE\n",
    "WHERE PRICE_PRERMT > '350'\n",
    "\"\n",
    ")"
   ]
  },
  {
   "cell_type": "markdown",
   "metadata": {},
   "source": [
    "## Problem 10\n",
    "\n",
    "#### Rank the crop types harvested in Saskatchewan in the year 2000 by their average yield. Which crop performed best?\n"
   ]
  },
  {
   "cell_type": "code",
   "execution_count": 66,
   "metadata": {},
   "outputs": [
    {
     "data": {
      "text/html": [
       "<table>\n",
       "<caption>A data.frame: 10 × 5</caption>\n",
       "<thead>\n",
       "\t<tr><th scope=col>HARVESTED_AREA</th><th scope=col>CROP_TYPE</th><th scope=col>SEEDED_AREA</th><th scope=col>HARVESTED_AREA</th><th scope=col>best_performance_Average</th></tr>\n",
       "\t<tr><th scope=col>&lt;int&gt;</th><th scope=col>&lt;chr&gt;</th><th scope=col>&lt;int&gt;</th><th scope=col>&lt;int&gt;</th><th scope=col>&lt;int&gt;</th></tr>\n",
       "</thead>\n",
       "<tbody>\n",
       "\t<tr><td>  22200</td><td>Rye   </td><td>  50600</td><td>  22200</td><td>56</td></tr>\n",
       "\t<tr><td>  68700</td><td>Rye   </td><td> 113300</td><td>  68700</td><td>39</td></tr>\n",
       "\t<tr><td>  52600</td><td>Rye   </td><td>  80900</td><td>  52600</td><td>34</td></tr>\n",
       "\t<tr><td>  40500</td><td>Rye   </td><td>  58700</td><td>  40500</td><td>31</td></tr>\n",
       "\t<tr><td>  46500</td><td>Rye   </td><td>  66800</td><td>  46500</td><td>30</td></tr>\n",
       "\t<tr><td>1416400</td><td>Barley</td><td>2043700</td><td>1416400</td><td>30</td></tr>\n",
       "\t<tr><td>  64800</td><td>Rye   </td><td>  91000</td><td>  64800</td><td>28</td></tr>\n",
       "\t<tr><td>  21600</td><td>Rye   </td><td>  30400</td><td>  21600</td><td>28</td></tr>\n",
       "\t<tr><td>  85000</td><td>Rye   </td><td> 115300</td><td>  85000</td><td>26</td></tr>\n",
       "\t<tr><td>  64700</td><td>Rye   </td><td>  87000</td><td>  64700</td><td>25</td></tr>\n",
       "</tbody>\n",
       "</table>\n"
      ],
      "text/latex": [
       "A data.frame: 10 × 5\n",
       "\\begin{tabular}{lllll}\n",
       " HARVESTED\\_AREA & CROP\\_TYPE & SEEDED\\_AREA & HARVESTED\\_AREA & best\\_performance\\_Average\\\\\n",
       " <int> & <chr> & <int> & <int> & <int>\\\\\n",
       "\\hline\n",
       "\t   22200 & Rye    &   50600 &   22200 & 56\\\\\n",
       "\t   68700 & Rye    &  113300 &   68700 & 39\\\\\n",
       "\t   52600 & Rye    &   80900 &   52600 & 34\\\\\n",
       "\t   40500 & Rye    &   58700 &   40500 & 31\\\\\n",
       "\t   46500 & Rye    &   66800 &   46500 & 30\\\\\n",
       "\t 1416400 & Barley & 2043700 & 1416400 & 30\\\\\n",
       "\t   64800 & Rye    &   91000 &   64800 & 28\\\\\n",
       "\t   21600 & Rye    &   30400 &   21600 & 28\\\\\n",
       "\t   85000 & Rye    &  115300 &   85000 & 26\\\\\n",
       "\t   64700 & Rye    &   87000 &   64700 & 25\\\\\n",
       "\\end{tabular}\n"
      ],
      "text/markdown": [
       "\n",
       "A data.frame: 10 × 5\n",
       "\n",
       "| HARVESTED_AREA &lt;int&gt; | CROP_TYPE &lt;chr&gt; | SEEDED_AREA &lt;int&gt; | HARVESTED_AREA &lt;int&gt; | best_performance_Average &lt;int&gt; |\n",
       "|---|---|---|---|---|\n",
       "|   22200 | Rye    |   50600 |   22200 | 56 |\n",
       "|   68700 | Rye    |  113300 |   68700 | 39 |\n",
       "|   52600 | Rye    |   80900 |   52600 | 34 |\n",
       "|   40500 | Rye    |   58700 |   40500 | 31 |\n",
       "|   46500 | Rye    |   66800 |   46500 | 30 |\n",
       "| 1416400 | Barley | 2043700 | 1416400 | 30 |\n",
       "|   64800 | Rye    |   91000 |   64800 | 28 |\n",
       "|   21600 | Rye    |   30400 |   21600 | 28 |\n",
       "|   85000 | Rye    |  115300 |   85000 | 26 |\n",
       "|   64700 | Rye    |   87000 |   64700 | 25 |\n",
       "\n"
      ],
      "text/plain": [
       "   HARVESTED_AREA CROP_TYPE SEEDED_AREA HARVESTED_AREA best_performance_Average\n",
       "1    22200        Rye         50600       22200        56                      \n",
       "2    68700        Rye        113300       68700        39                      \n",
       "3    52600        Rye         80900       52600        34                      \n",
       "4    40500        Rye         58700       40500        31                      \n",
       "5    46500        Rye         66800       46500        30                      \n",
       "6  1416400        Barley    2043700     1416400        30                      \n",
       "7    64800        Rye         91000       64800        28                      \n",
       "8    21600        Rye         30400       21600        28                      \n",
       "9    85000        Rye        115300       85000        26                      \n",
       "10   64700        Rye         87000       64700        25                      "
      ]
     },
     "metadata": {},
     "output_type": "display_data"
    }
   ],
   "source": [
    "dbGetQuery(conn, \"SELECT  HARVESTED_AREA ,CROP_TYPE , SEEDED_AREA, HARVESTED_AREA,  100*(SEEDED_AREA-HARVESTED_AREA)/SEEDED_AREA AS best_performance_Average\n",
    "    FROM ANNUAL_CROP_DATA \n",
    "    WHERE    GEO='Saskatchewan' AND YEAR >=2000\n",
    "    ORDER BY best_performance_Average DESC\n",
    "    LIMIT 10\")"
   ]
  },
  {
   "cell_type": "markdown",
   "metadata": {},
   "source": [
    "## Problem 11\n",
    "\n",
    "#### Rank the crops and geographies by their average yield (KG per hectare) since the year 2000. Which crop and province had the highest average yield since the year 2000?\n"
   ]
  },
  {
   "cell_type": "code",
   "execution_count": 67,
   "metadata": {
    "tags": []
   },
   "outputs": [
    {
     "data": {
      "text/html": [
       "<table>\n",
       "<caption>A data.frame: 252 × 5</caption>\n",
       "<thead>\n",
       "\t<tr><th scope=col>CROP_TYPE</th><th scope=col>GEO</th><th scope=col>SEEDED_AREA</th><th scope=col>HARVESTED_AREA</th><th scope=col>best_performance_Average</th></tr>\n",
       "\t<tr><th scope=col>&lt;chr&gt;</th><th scope=col>&lt;chr&gt;</th><th scope=col>&lt;int&gt;</th><th scope=col>&lt;int&gt;</th><th scope=col>&lt;int&gt;</th></tr>\n",
       "</thead>\n",
       "<tbody>\n",
       "\t<tr><td>Canola</td><td>Saskatchewan</td><td>2387600</td><td>2371500</td><td>0</td></tr>\n",
       "\t<tr><td>Canola</td><td>Canada      </td><td>4735700</td><td>4689200</td><td>0</td></tr>\n",
       "\t<tr><td>Canola</td><td>Saskatchewan</td><td>2306700</td><td>2286500</td><td>0</td></tr>\n",
       "\t<tr><td>Canola</td><td>Alberta     </td><td>1821100</td><td>1813000</td><td>0</td></tr>\n",
       "\t<tr><td>Canola</td><td>Canada      </td><td>5283300</td><td>5238200</td><td>0</td></tr>\n",
       "\t<tr><td>Canola</td><td>Alberta     </td><td>2037600</td><td>2023400</td><td>0</td></tr>\n",
       "\t<tr><td>Canola</td><td>Canada      </td><td>6382200</td><td>6332800</td><td>0</td></tr>\n",
       "\t<tr><td>Canola</td><td>Saskatchewan</td><td>3049300</td><td>3025000</td><td>0</td></tr>\n",
       "\t<tr><td>Canola</td><td>Alberta     </td><td>2104400</td><td>2092200</td><td>0</td></tr>\n",
       "\t<tr><td>Canola</td><td>Canada      </td><td>6541100</td><td>6495900</td><td>0</td></tr>\n",
       "\t<tr><td>Canola</td><td>Saskatchewan</td><td>3116100</td><td>3095800</td><td>0</td></tr>\n",
       "\t<tr><td>Canola</td><td>Alberta     </td><td>2246000</td><td>2225800</td><td>0</td></tr>\n",
       "\t<tr><td>Canola</td><td>Saskatchewan</td><td>4006400</td><td>3986200</td><td>0</td></tr>\n",
       "\t<tr><td>Canola</td><td>Alberta     </td><td>2711400</td><td>2691200</td><td>0</td></tr>\n",
       "\t<tr><td>Wheat </td><td>Saskatchewan</td><td>5224500</td><td>5179900</td><td>0</td></tr>\n",
       "\t<tr><td>Canola</td><td>Alberta     </td><td>2565700</td><td>2555600</td><td>0</td></tr>\n",
       "\t<tr><td>Canola</td><td>Canada      </td><td>8274100</td><td>8233400</td><td>0</td></tr>\n",
       "\t<tr><td>Canola</td><td>Saskatchewan</td><td>4309900</td><td>4289700</td><td>0</td></tr>\n",
       "\t<tr><td>Canola</td><td>Alberta     </td><td>2751900</td><td>2739700</td><td>0</td></tr>\n",
       "\t<tr><td>Canola</td><td>Canada      </td><td>8457900</td><td>8392400</td><td>0</td></tr>\n",
       "\t<tr><td>Canola</td><td>Saskatchewan</td><td>4350400</td><td>4309900</td><td>0</td></tr>\n",
       "\t<tr><td>Canola</td><td>Alberta     </td><td>2535400</td><td>2519200</td><td>0</td></tr>\n",
       "\t<tr><td>Canola</td><td>Canada      </td><td>8411300</td><td>8364400</td><td>0</td></tr>\n",
       "\t<tr><td>Canola</td><td>Saskatchewan</td><td>4512200</td><td>4492000</td><td>0</td></tr>\n",
       "\t<tr><td>Canola</td><td>Saskatchewan</td><td>4552700</td><td>4522400</td><td>0</td></tr>\n",
       "\t<tr><td>Canola</td><td>Alberta     </td><td>2804500</td><td>2788300</td><td>0</td></tr>\n",
       "\t<tr><td>Canola</td><td>Canada      </td><td>9313400</td><td>9273100</td><td>0</td></tr>\n",
       "\t<tr><td>Canola</td><td>Saskatchewan</td><td>5151600</td><td>5131400</td><td>0</td></tr>\n",
       "\t<tr><td>Wheat </td><td>Saskatchewan</td><td>4587100</td><td>4541800</td><td>0</td></tr>\n",
       "\t<tr><td>Canola</td><td>Saskatchewan</td><td>4997900</td><td>4955000</td><td>0</td></tr>\n",
       "\t<tr><td>⋮</td><td>⋮</td><td>⋮</td><td>⋮</td><td>⋮</td></tr>\n",
       "\t<tr><td>Rye   </td><td>Alberta     </td><td>  18200</td><td>  12100</td><td>33</td></tr>\n",
       "\t<tr><td>Rye   </td><td>Alberta     </td><td>  52600</td><td>  34400</td><td>34</td></tr>\n",
       "\t<tr><td>Barley</td><td>Canada      </td><td>5070200</td><td>3341800</td><td>34</td></tr>\n",
       "\t<tr><td>Rye   </td><td>Canada      </td><td> 207600</td><td> 136100</td><td>34</td></tr>\n",
       "\t<tr><td>Rye   </td><td>Saskatchewan</td><td>  80900</td><td>  52600</td><td>34</td></tr>\n",
       "\t<tr><td>Rye   </td><td>Alberta     </td><td>  28300</td><td>  18200</td><td>35</td></tr>\n",
       "\t<tr><td>Rye   </td><td>Alberta     </td><td>  32800</td><td>  21000</td><td>35</td></tr>\n",
       "\t<tr><td>Rye   </td><td>Canada      </td><td> 236700</td><td> 153000</td><td>35</td></tr>\n",
       "\t<tr><td>Rye   </td><td>Canada      </td><td> 188200</td><td> 114500</td><td>39</td></tr>\n",
       "\t<tr><td>Rye   </td><td>Canada      </td><td> 258200</td><td> 156800</td><td>39</td></tr>\n",
       "\t<tr><td>Rye   </td><td>Saskatchewan</td><td> 113300</td><td>  68700</td><td>39</td></tr>\n",
       "\t<tr><td>Rye   </td><td>Canada      </td><td> 246400</td><td> 147300</td><td>40</td></tr>\n",
       "\t<tr><td>Rye   </td><td>Canada      </td><td> 276200</td><td> 163900</td><td>40</td></tr>\n",
       "\t<tr><td>Rye   </td><td>Canada      </td><td> 135400</td><td>  78900</td><td>41</td></tr>\n",
       "\t<tr><td>Rye   </td><td>Canada      </td><td> 174700</td><td> 102600</td><td>41</td></tr>\n",
       "\t<tr><td>Rye   </td><td>Alberta     </td><td>  16000</td><td>   9100</td><td>43</td></tr>\n",
       "\t<tr><td>Rye   </td><td>Alberta     </td><td>  18200</td><td>  10100</td><td>44</td></tr>\n",
       "\t<tr><td>Rye   </td><td>Alberta     </td><td>  30400</td><td>  16200</td><td>46</td></tr>\n",
       "\t<tr><td>Barley</td><td>Alberta     </td><td>2169100</td><td>1127000</td><td>48</td></tr>\n",
       "\t<tr><td>Rye   </td><td>Alberta     </td><td>  40500</td><td>  20200</td><td>50</td></tr>\n",
       "\t<tr><td>Rye   </td><td>Canada      </td><td> 159900</td><td>  76800</td><td>51</td></tr>\n",
       "\t<tr><td>Rye   </td><td>Alberta     </td><td>  60700</td><td>  28300</td><td>53</td></tr>\n",
       "\t<tr><td>Rye   </td><td>Alberta     </td><td>  66800</td><td>  30300</td><td>54</td></tr>\n",
       "\t<tr><td>Rye   </td><td>Saskatchewan</td><td>  50600</td><td>  22200</td><td>56</td></tr>\n",
       "\t<tr><td>Rye   </td><td>Alberta     </td><td>  89000</td><td>  36400</td><td>59</td></tr>\n",
       "\t<tr><td>Rye   </td><td>Alberta     </td><td>  50600</td><td>  20200</td><td>60</td></tr>\n",
       "\t<tr><td>Rye   </td><td>Alberta     </td><td>  42500</td><td>  16200</td><td>61</td></tr>\n",
       "\t<tr><td>Rye   </td><td>Alberta     </td><td>  26600</td><td>   7800</td><td>70</td></tr>\n",
       "\t<tr><td>Rye   </td><td>Alberta     </td><td>  85000</td><td>  22300</td><td>73</td></tr>\n",
       "\t<tr><td>Rye   </td><td>Alberta     </td><td>  46500</td><td>  10100</td><td>78</td></tr>\n",
       "</tbody>\n",
       "</table>\n"
      ],
      "text/latex": [
       "A data.frame: 252 × 5\n",
       "\\begin{tabular}{lllll}\n",
       " CROP\\_TYPE & GEO & SEEDED\\_AREA & HARVESTED\\_AREA & best\\_performance\\_Average\\\\\n",
       " <chr> & <chr> & <int> & <int> & <int>\\\\\n",
       "\\hline\n",
       "\t Canola & Saskatchewan & 2387600 & 2371500 & 0\\\\\n",
       "\t Canola & Canada       & 4735700 & 4689200 & 0\\\\\n",
       "\t Canola & Saskatchewan & 2306700 & 2286500 & 0\\\\\n",
       "\t Canola & Alberta      & 1821100 & 1813000 & 0\\\\\n",
       "\t Canola & Canada       & 5283300 & 5238200 & 0\\\\\n",
       "\t Canola & Alberta      & 2037600 & 2023400 & 0\\\\\n",
       "\t Canola & Canada       & 6382200 & 6332800 & 0\\\\\n",
       "\t Canola & Saskatchewan & 3049300 & 3025000 & 0\\\\\n",
       "\t Canola & Alberta      & 2104400 & 2092200 & 0\\\\\n",
       "\t Canola & Canada       & 6541100 & 6495900 & 0\\\\\n",
       "\t Canola & Saskatchewan & 3116100 & 3095800 & 0\\\\\n",
       "\t Canola & Alberta      & 2246000 & 2225800 & 0\\\\\n",
       "\t Canola & Saskatchewan & 4006400 & 3986200 & 0\\\\\n",
       "\t Canola & Alberta      & 2711400 & 2691200 & 0\\\\\n",
       "\t Wheat  & Saskatchewan & 5224500 & 5179900 & 0\\\\\n",
       "\t Canola & Alberta      & 2565700 & 2555600 & 0\\\\\n",
       "\t Canola & Canada       & 8274100 & 8233400 & 0\\\\\n",
       "\t Canola & Saskatchewan & 4309900 & 4289700 & 0\\\\\n",
       "\t Canola & Alberta      & 2751900 & 2739700 & 0\\\\\n",
       "\t Canola & Canada       & 8457900 & 8392400 & 0\\\\\n",
       "\t Canola & Saskatchewan & 4350400 & 4309900 & 0\\\\\n",
       "\t Canola & Alberta      & 2535400 & 2519200 & 0\\\\\n",
       "\t Canola & Canada       & 8411300 & 8364400 & 0\\\\\n",
       "\t Canola & Saskatchewan & 4512200 & 4492000 & 0\\\\\n",
       "\t Canola & Saskatchewan & 4552700 & 4522400 & 0\\\\\n",
       "\t Canola & Alberta      & 2804500 & 2788300 & 0\\\\\n",
       "\t Canola & Canada       & 9313400 & 9273100 & 0\\\\\n",
       "\t Canola & Saskatchewan & 5151600 & 5131400 & 0\\\\\n",
       "\t Wheat  & Saskatchewan & 4587100 & 4541800 & 0\\\\\n",
       "\t Canola & Saskatchewan & 4997900 & 4955000 & 0\\\\\n",
       "\t ⋮ & ⋮ & ⋮ & ⋮ & ⋮\\\\\n",
       "\t Rye    & Alberta      &   18200 &   12100 & 33\\\\\n",
       "\t Rye    & Alberta      &   52600 &   34400 & 34\\\\\n",
       "\t Barley & Canada       & 5070200 & 3341800 & 34\\\\\n",
       "\t Rye    & Canada       &  207600 &  136100 & 34\\\\\n",
       "\t Rye    & Saskatchewan &   80900 &   52600 & 34\\\\\n",
       "\t Rye    & Alberta      &   28300 &   18200 & 35\\\\\n",
       "\t Rye    & Alberta      &   32800 &   21000 & 35\\\\\n",
       "\t Rye    & Canada       &  236700 &  153000 & 35\\\\\n",
       "\t Rye    & Canada       &  188200 &  114500 & 39\\\\\n",
       "\t Rye    & Canada       &  258200 &  156800 & 39\\\\\n",
       "\t Rye    & Saskatchewan &  113300 &   68700 & 39\\\\\n",
       "\t Rye    & Canada       &  246400 &  147300 & 40\\\\\n",
       "\t Rye    & Canada       &  276200 &  163900 & 40\\\\\n",
       "\t Rye    & Canada       &  135400 &   78900 & 41\\\\\n",
       "\t Rye    & Canada       &  174700 &  102600 & 41\\\\\n",
       "\t Rye    & Alberta      &   16000 &    9100 & 43\\\\\n",
       "\t Rye    & Alberta      &   18200 &   10100 & 44\\\\\n",
       "\t Rye    & Alberta      &   30400 &   16200 & 46\\\\\n",
       "\t Barley & Alberta      & 2169100 & 1127000 & 48\\\\\n",
       "\t Rye    & Alberta      &   40500 &   20200 & 50\\\\\n",
       "\t Rye    & Canada       &  159900 &   76800 & 51\\\\\n",
       "\t Rye    & Alberta      &   60700 &   28300 & 53\\\\\n",
       "\t Rye    & Alberta      &   66800 &   30300 & 54\\\\\n",
       "\t Rye    & Saskatchewan &   50600 &   22200 & 56\\\\\n",
       "\t Rye    & Alberta      &   89000 &   36400 & 59\\\\\n",
       "\t Rye    & Alberta      &   50600 &   20200 & 60\\\\\n",
       "\t Rye    & Alberta      &   42500 &   16200 & 61\\\\\n",
       "\t Rye    & Alberta      &   26600 &    7800 & 70\\\\\n",
       "\t Rye    & Alberta      &   85000 &   22300 & 73\\\\\n",
       "\t Rye    & Alberta      &   46500 &   10100 & 78\\\\\n",
       "\\end{tabular}\n"
      ],
      "text/markdown": [
       "\n",
       "A data.frame: 252 × 5\n",
       "\n",
       "| CROP_TYPE &lt;chr&gt; | GEO &lt;chr&gt; | SEEDED_AREA &lt;int&gt; | HARVESTED_AREA &lt;int&gt; | best_performance_Average &lt;int&gt; |\n",
       "|---|---|---|---|---|\n",
       "| Canola | Saskatchewan | 2387600 | 2371500 | 0 |\n",
       "| Canola | Canada       | 4735700 | 4689200 | 0 |\n",
       "| Canola | Saskatchewan | 2306700 | 2286500 | 0 |\n",
       "| Canola | Alberta      | 1821100 | 1813000 | 0 |\n",
       "| Canola | Canada       | 5283300 | 5238200 | 0 |\n",
       "| Canola | Alberta      | 2037600 | 2023400 | 0 |\n",
       "| Canola | Canada       | 6382200 | 6332800 | 0 |\n",
       "| Canola | Saskatchewan | 3049300 | 3025000 | 0 |\n",
       "| Canola | Alberta      | 2104400 | 2092200 | 0 |\n",
       "| Canola | Canada       | 6541100 | 6495900 | 0 |\n",
       "| Canola | Saskatchewan | 3116100 | 3095800 | 0 |\n",
       "| Canola | Alberta      | 2246000 | 2225800 | 0 |\n",
       "| Canola | Saskatchewan | 4006400 | 3986200 | 0 |\n",
       "| Canola | Alberta      | 2711400 | 2691200 | 0 |\n",
       "| Wheat  | Saskatchewan | 5224500 | 5179900 | 0 |\n",
       "| Canola | Alberta      | 2565700 | 2555600 | 0 |\n",
       "| Canola | Canada       | 8274100 | 8233400 | 0 |\n",
       "| Canola | Saskatchewan | 4309900 | 4289700 | 0 |\n",
       "| Canola | Alberta      | 2751900 | 2739700 | 0 |\n",
       "| Canola | Canada       | 8457900 | 8392400 | 0 |\n",
       "| Canola | Saskatchewan | 4350400 | 4309900 | 0 |\n",
       "| Canola | Alberta      | 2535400 | 2519200 | 0 |\n",
       "| Canola | Canada       | 8411300 | 8364400 | 0 |\n",
       "| Canola | Saskatchewan | 4512200 | 4492000 | 0 |\n",
       "| Canola | Saskatchewan | 4552700 | 4522400 | 0 |\n",
       "| Canola | Alberta      | 2804500 | 2788300 | 0 |\n",
       "| Canola | Canada       | 9313400 | 9273100 | 0 |\n",
       "| Canola | Saskatchewan | 5151600 | 5131400 | 0 |\n",
       "| Wheat  | Saskatchewan | 4587100 | 4541800 | 0 |\n",
       "| Canola | Saskatchewan | 4997900 | 4955000 | 0 |\n",
       "| ⋮ | ⋮ | ⋮ | ⋮ | ⋮ |\n",
       "| Rye    | Alberta      |   18200 |   12100 | 33 |\n",
       "| Rye    | Alberta      |   52600 |   34400 | 34 |\n",
       "| Barley | Canada       | 5070200 | 3341800 | 34 |\n",
       "| Rye    | Canada       |  207600 |  136100 | 34 |\n",
       "| Rye    | Saskatchewan |   80900 |   52600 | 34 |\n",
       "| Rye    | Alberta      |   28300 |   18200 | 35 |\n",
       "| Rye    | Alberta      |   32800 |   21000 | 35 |\n",
       "| Rye    | Canada       |  236700 |  153000 | 35 |\n",
       "| Rye    | Canada       |  188200 |  114500 | 39 |\n",
       "| Rye    | Canada       |  258200 |  156800 | 39 |\n",
       "| Rye    | Saskatchewan |  113300 |   68700 | 39 |\n",
       "| Rye    | Canada       |  246400 |  147300 | 40 |\n",
       "| Rye    | Canada       |  276200 |  163900 | 40 |\n",
       "| Rye    | Canada       |  135400 |   78900 | 41 |\n",
       "| Rye    | Canada       |  174700 |  102600 | 41 |\n",
       "| Rye    | Alberta      |   16000 |    9100 | 43 |\n",
       "| Rye    | Alberta      |   18200 |   10100 | 44 |\n",
       "| Rye    | Alberta      |   30400 |   16200 | 46 |\n",
       "| Barley | Alberta      | 2169100 | 1127000 | 48 |\n",
       "| Rye    | Alberta      |   40500 |   20200 | 50 |\n",
       "| Rye    | Canada       |  159900 |   76800 | 51 |\n",
       "| Rye    | Alberta      |   60700 |   28300 | 53 |\n",
       "| Rye    | Alberta      |   66800 |   30300 | 54 |\n",
       "| Rye    | Saskatchewan |   50600 |   22200 | 56 |\n",
       "| Rye    | Alberta      |   89000 |   36400 | 59 |\n",
       "| Rye    | Alberta      |   50600 |   20200 | 60 |\n",
       "| Rye    | Alberta      |   42500 |   16200 | 61 |\n",
       "| Rye    | Alberta      |   26600 |    7800 | 70 |\n",
       "| Rye    | Alberta      |   85000 |   22300 | 73 |\n",
       "| Rye    | Alberta      |   46500 |   10100 | 78 |\n",
       "\n"
      ],
      "text/plain": [
       "    CROP_TYPE GEO          SEEDED_AREA HARVESTED_AREA best_performance_Average\n",
       "1   Canola    Saskatchewan 2387600     2371500        0                       \n",
       "2   Canola    Canada       4735700     4689200        0                       \n",
       "3   Canola    Saskatchewan 2306700     2286500        0                       \n",
       "4   Canola    Alberta      1821100     1813000        0                       \n",
       "5   Canola    Canada       5283300     5238200        0                       \n",
       "6   Canola    Alberta      2037600     2023400        0                       \n",
       "7   Canola    Canada       6382200     6332800        0                       \n",
       "8   Canola    Saskatchewan 3049300     3025000        0                       \n",
       "9   Canola    Alberta      2104400     2092200        0                       \n",
       "10  Canola    Canada       6541100     6495900        0                       \n",
       "11  Canola    Saskatchewan 3116100     3095800        0                       \n",
       "12  Canola    Alberta      2246000     2225800        0                       \n",
       "13  Canola    Saskatchewan 4006400     3986200        0                       \n",
       "14  Canola    Alberta      2711400     2691200        0                       \n",
       "15  Wheat     Saskatchewan 5224500     5179900        0                       \n",
       "16  Canola    Alberta      2565700     2555600        0                       \n",
       "17  Canola    Canada       8274100     8233400        0                       \n",
       "18  Canola    Saskatchewan 4309900     4289700        0                       \n",
       "19  Canola    Alberta      2751900     2739700        0                       \n",
       "20  Canola    Canada       8457900     8392400        0                       \n",
       "21  Canola    Saskatchewan 4350400     4309900        0                       \n",
       "22  Canola    Alberta      2535400     2519200        0                       \n",
       "23  Canola    Canada       8411300     8364400        0                       \n",
       "24  Canola    Saskatchewan 4512200     4492000        0                       \n",
       "25  Canola    Saskatchewan 4552700     4522400        0                       \n",
       "26  Canola    Alberta      2804500     2788300        0                       \n",
       "27  Canola    Canada       9313400     9273100        0                       \n",
       "28  Canola    Saskatchewan 5151600     5131400        0                       \n",
       "29  Wheat     Saskatchewan 4587100     4541800        0                       \n",
       "30  Canola    Saskatchewan 4997900     4955000        0                       \n",
       "⋮   ⋮         ⋮            ⋮           ⋮              ⋮                       \n",
       "223 Rye       Alberta        18200       12100        33                      \n",
       "224 Rye       Alberta        52600       34400        34                      \n",
       "225 Barley    Canada       5070200     3341800        34                      \n",
       "226 Rye       Canada        207600      136100        34                      \n",
       "227 Rye       Saskatchewan   80900       52600        34                      \n",
       "228 Rye       Alberta        28300       18200        35                      \n",
       "229 Rye       Alberta        32800       21000        35                      \n",
       "230 Rye       Canada        236700      153000        35                      \n",
       "231 Rye       Canada        188200      114500        39                      \n",
       "232 Rye       Canada        258200      156800        39                      \n",
       "233 Rye       Saskatchewan  113300       68700        39                      \n",
       "234 Rye       Canada        246400      147300        40                      \n",
       "235 Rye       Canada        276200      163900        40                      \n",
       "236 Rye       Canada        135400       78900        41                      \n",
       "237 Rye       Canada        174700      102600        41                      \n",
       "238 Rye       Alberta        16000        9100        43                      \n",
       "239 Rye       Alberta        18200       10100        44                      \n",
       "240 Rye       Alberta        30400       16200        46                      \n",
       "241 Barley    Alberta      2169100     1127000        48                      \n",
       "242 Rye       Alberta        40500       20200        50                      \n",
       "243 Rye       Canada        159900       76800        51                      \n",
       "244 Rye       Alberta        60700       28300        53                      \n",
       "245 Rye       Alberta        66800       30300        54                      \n",
       "246 Rye       Saskatchewan   50600       22200        56                      \n",
       "247 Rye       Alberta        89000       36400        59                      \n",
       "248 Rye       Alberta        50600       20200        60                      \n",
       "249 Rye       Alberta        42500       16200        61                      \n",
       "250 Rye       Alberta        26600        7800        70                      \n",
       "251 Rye       Alberta        85000       22300        73                      \n",
       "252 Rye       Alberta        46500       10100        78                      "
      ]
     },
     "metadata": {},
     "output_type": "display_data"
    }
   ],
   "source": [
    "dbGetQuery(conn ,\"select CROP_TYPE , GEO ,  SEEDED_AREA, HARVESTED_AREA,  100*(SEEDED_AREA-HARVESTED_AREA)/SEEDED_AREA AS best_performance_Average \n",
    "                                                FROM ANNUAL_CROP_DATA\n",
    "                                                WHERE YEAR>=2000\n",
    "                                                ORDER BY best_performance_Average\n",
    "\"\n",
    "           )"
   ]
  },
  {
   "cell_type": "markdown",
   "metadata": {},
   "source": [
    "## Problem 12\n",
    "\n",
    "#### Use a subquery to determine how much wheat was harvested in Canada in the most recent year of the data.\n"
   ]
  },
  {
   "cell_type": "code",
   "execution_count": 78,
   "metadata": {
    "tags": []
   },
   "outputs": [
    {
     "data": {
      "text/html": [
       "<table>\n",
       "<caption>A data.frame: 1 × 1</caption>\n",
       "<thead>\n",
       "\t<tr><th scope=col>MOST_RECENT_YEAR</th></tr>\n",
       "\t<tr><th scope=col>&lt;lgl&gt;</th></tr>\n",
       "</thead>\n",
       "<tbody>\n",
       "\t<tr><td>NA</td></tr>\n",
       "</tbody>\n",
       "</table>\n"
      ],
      "text/latex": [
       "A data.frame: 1 × 1\n",
       "\\begin{tabular}{l}\n",
       " MOST\\_RECENT\\_YEAR\\\\\n",
       " <lgl>\\\\\n",
       "\\hline\n",
       "\t NA\\\\\n",
       "\\end{tabular}\n"
      ],
      "text/markdown": [
       "\n",
       "A data.frame: 1 × 1\n",
       "\n",
       "| MOST_RECENT_YEAR &lt;lgl&gt; |\n",
       "|---|\n",
       "| NA |\n",
       "\n"
      ],
      "text/plain": [
       "  MOST_RECENT_YEAR\n",
       "1 NA              "
      ]
     },
     "metadata": {},
     "output_type": "display_data"
    }
   ],
   "source": [
    "most_recent_year <- dbGetQuery(conn, \"\n",
    "SELECT MAX(YEAR) AS MOST_RECENT_YEAR\n",
    "FROM ANNUAL_CROP_DATA WHERE  GEO ='Canda' AND CROP_TYPE = 'Wheat'\n",
    "\"\n",
    "                               )\n",
    "most_recent_year\n",
    "\n"
   ]
  },
  {
   "cell_type": "code",
   "execution_count": 74,
   "metadata": {
    "tags": []
   },
   "outputs": [],
   "source": [
    "most_recent_year <- dbGetQuery(conn, \"\n",
    "SELECT MAX(YEAR) AS MOST_RECENT_YEAR\n",
    "FROM ANNUAL_CROP_DATA WHERE  GEO ='Canda' AND CROP_TYPE = 'Wheat'\n",
    "\"\n",
    "                               )\n"
   ]
  },
  {
   "cell_type": "markdown",
   "metadata": {},
   "source": [
    "## Problem 13\n",
    "\n",
    "#### Use an implicit inner join to calculate the monthly price per metric tonne of Canola grown in Saskatchewan in both Canadian and US dollars. Display the most recent 6 months of the data.\n"
   ]
  },
  {
   "cell_type": "code",
   "execution_count": 73,
   "metadata": {},
   "outputs": [
    {
     "data": {
      "text/html": [
       "<table>\n",
       "<caption>A data.frame: 6 × 3</caption>\n",
       "<thead>\n",
       "\t<tr><th scope=col>DATE</th><th scope=col>CANADIAN_DOLLARS</th><th scope=col>US_DOLLAR</th></tr>\n",
       "\t<tr><th scope=col>&lt;chr&gt;</th><th scope=col>&lt;dbl&gt;</th><th scope=col>&lt;dbl&gt;</th></tr>\n",
       "</thead>\n",
       "<tbody>\n",
       "\t<tr><td>2020-12-01</td><td>507.33</td><td>396.1128</td></tr>\n",
       "\t<tr><td>2020-11-01</td><td>495.64</td><td>379.2718</td></tr>\n",
       "\t<tr><td>2020-10-01</td><td>474.80</td><td>359.2965</td></tr>\n",
       "\t<tr><td>2020-09-01</td><td>463.52</td><td>350.4057</td></tr>\n",
       "\t<tr><td>2020-08-01</td><td>464.60</td><td>351.3827</td></tr>\n",
       "\t<tr><td>2020-07-01</td><td>462.88</td><td>342.9122</td></tr>\n",
       "</tbody>\n",
       "</table>\n"
      ],
      "text/latex": [
       "A data.frame: 6 × 3\n",
       "\\begin{tabular}{lll}\n",
       " DATE & CANADIAN\\_DOLLARS & US\\_DOLLAR\\\\\n",
       " <chr> & <dbl> & <dbl>\\\\\n",
       "\\hline\n",
       "\t 2020-12-01 & 507.33 & 396.1128\\\\\n",
       "\t 2020-11-01 & 495.64 & 379.2718\\\\\n",
       "\t 2020-10-01 & 474.80 & 359.2965\\\\\n",
       "\t 2020-09-01 & 463.52 & 350.4057\\\\\n",
       "\t 2020-08-01 & 464.60 & 351.3827\\\\\n",
       "\t 2020-07-01 & 462.88 & 342.9122\\\\\n",
       "\\end{tabular}\n"
      ],
      "text/markdown": [
       "\n",
       "A data.frame: 6 × 3\n",
       "\n",
       "| DATE &lt;chr&gt; | CANADIAN_DOLLARS &lt;dbl&gt; | US_DOLLAR &lt;dbl&gt; |\n",
       "|---|---|---|\n",
       "| 2020-12-01 | 507.33 | 396.1128 |\n",
       "| 2020-11-01 | 495.64 | 379.2718 |\n",
       "| 2020-10-01 | 474.80 | 359.2965 |\n",
       "| 2020-09-01 | 463.52 | 350.4057 |\n",
       "| 2020-08-01 | 464.60 | 351.3827 |\n",
       "| 2020-07-01 | 462.88 | 342.9122 |\n",
       "\n"
      ],
      "text/plain": [
       "  DATE       CANADIAN_DOLLARS US_DOLLAR\n",
       "1 2020-12-01 507.33           396.1128 \n",
       "2 2020-11-01 495.64           379.2718 \n",
       "3 2020-10-01 474.80           359.2965 \n",
       "4 2020-09-01 463.52           350.4057 \n",
       "5 2020-08-01 464.60           351.3827 \n",
       "6 2020-07-01 462.88           342.9122 "
      ]
     },
     "metadata": {},
     "output_type": "display_data"
    }
   ],
   "source": [
    "dbGetQuery(conn, \"Select f.DATE, \n",
    "       f.PRICE_PRERMT AS CANADIAN_DOLLARS,\n",
    "       f.PRICE_PRERMT / m.FXUSDCAD AS US_DOLLAR\n",
    "           \n",
    "           from FARM_PRODUCT_PRICE f\n",
    "           INNER JOIN MONTHLY_FX m\n",
    "           ON f.DATE =m.DATE \n",
    "           WHERE f.CROP_TYPE = 'Canola'\n",
    "  AND f.GEO = 'Saskatchewan'\n",
    "ORDER BY f.DATE DESC\n",
    "LIMIT 6\n",
    "\"\n",
    "           )"
   ]
  },
  {
   "cell_type": "markdown",
   "metadata": {
    "jp-MarkdownHeadingCollapsed": true,
    "tags": []
   },
   "source": [
    "## Author(s)\n",
    "\n",
    "<h4> Jeff Grossman </h4>\n",
    "\n",
    "<h4> D.M. Naidu </h4>\n",
    "\n",
    "## Contributor(s)\n",
    "\n",
    "<h4> Rav Ahuja </h4>\n",
    "\n",
    "<h4> Lakshmi Holla </h4>\n",
    "\n",
    "zzzzzz\n",
    "\n",
    "| Date       | Version | Changed by    | Change Description                        |\n",
    "| ---------- | ------- | ------------- | ----------------------------------------- |\n",
    "| 2022-03-03 | 1.0     | D.M. Naidu    | Converted intial version to RSQLite       |\n",
    "\n",
    "## <h3 align=\"center\"> © IBM Corporation 2022. All rights reserved. <h3/>\n"
   ]
  }
 ],
 "metadata": {
  "kernelspec": {
   "display_name": "R",
   "language": "R",
   "name": "conda-env-r-r"
  },
  "language_info": {
   "codemirror_mode": "r",
   "file_extension": ".r",
   "mimetype": "text/x-r-source",
   "name": "R",
   "pygments_lexer": "r",
   "version": "3.5.1"
  }
 },
 "nbformat": 4,
 "nbformat_minor": 4
}
